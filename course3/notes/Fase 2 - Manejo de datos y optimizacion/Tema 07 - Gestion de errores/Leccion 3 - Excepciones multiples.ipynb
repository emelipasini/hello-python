{
 "cells": [
  {
   "cell_type": "code",
   "execution_count": 1,
   "metadata": {},
   "outputs": [
    {
     "name": "stdout",
     "output_type": "stream",
     "text": [
      "Introduce un numero: 9\n",
      "Error TypeError\n"
     ]
    }
   ],
   "source": [
    "try:\n",
    "    n = input(\"Introduce un numero: \")\n",
    "    5/n\n",
    "except Exception as e:\n",
    "    print(\"Error\", type(e).__name__)"
   ]
  },
  {
   "cell_type": "code",
   "execution_count": 12,
   "metadata": {},
   "outputs": [
    {
     "name": "stdout",
     "output_type": "stream",
     "text": [
      "Introduce un numero: a\n",
      "Debes introducir un numero\n"
     ]
    }
   ],
   "source": [
    "try:\n",
    "    n = float(input(\"Introduce un numero: \"))\n",
    "    print(5/n)\n",
    "except ZeroDivisionError:\n",
    "    print(\"No se puede dividir por cero\")\n",
    "except ValueError:\n",
    "    print(\"Debes introducir un numero\")\n",
    "except TypeError:\n",
    "    print(\"No se puede dividir un numero por una cadena\")\n",
    "except Exception as e:\n",
    "    print(\"Error\", type(e).__name__)"
   ]
  },
  {
   "cell_type": "code",
   "execution_count": null,
   "metadata": {},
   "outputs": [],
   "source": []
  }
 ],
 "metadata": {
  "kernelspec": {
   "display_name": "Python 3 (ipykernel)",
   "language": "python",
   "name": "python3"
  },
  "language_info": {
   "codemirror_mode": {
    "name": "ipython",
    "version": 3
   },
   "file_extension": ".py",
   "mimetype": "text/x-python",
   "name": "python",
   "nbconvert_exporter": "python",
   "pygments_lexer": "ipython3",
   "version": "3.11.1"
  }
 },
 "nbformat": 4,
 "nbformat_minor": 1
}
