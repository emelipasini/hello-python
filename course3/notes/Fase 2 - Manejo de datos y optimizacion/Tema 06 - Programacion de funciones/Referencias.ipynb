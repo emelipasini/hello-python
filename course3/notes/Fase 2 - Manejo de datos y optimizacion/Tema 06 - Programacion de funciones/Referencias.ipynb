{
 "cells": [
  {
   "cell_type": "code",
   "execution_count": 1,
   "id": "d21fa4f5",
   "metadata": {},
   "outputs": [],
   "source": [
    "a = 10"
   ]
  },
  {
   "cell_type": "code",
   "execution_count": 2,
   "id": "722b8f37",
   "metadata": {},
   "outputs": [],
   "source": [
    "b = a"
   ]
  },
  {
   "cell_type": "code",
   "execution_count": 3,
   "id": "a8a10173",
   "metadata": {},
   "outputs": [],
   "source": [
    "a = 1000"
   ]
  },
  {
   "cell_type": "code",
   "execution_count": 4,
   "id": "252be617",
   "metadata": {},
   "outputs": [
    {
     "name": "stdout",
     "output_type": "stream",
     "text": [
      "1000\n",
      "10\n"
     ]
    }
   ],
   "source": [
    "print(a)\n",
    "print(b)"
   ]
  },
  {
   "cell_type": "code",
   "execution_count": 5,
   "id": "87604a80",
   "metadata": {},
   "outputs": [],
   "source": [
    "# Copia el valor pero no lo referencia"
   ]
  },
  {
   "cell_type": "code",
   "execution_count": 6,
   "id": "2bb1c369",
   "metadata": {},
   "outputs": [],
   "source": [
    "lista1 = [1,2,3,4,5]"
   ]
  },
  {
   "cell_type": "code",
   "execution_count": 7,
   "id": "10787c24",
   "metadata": {},
   "outputs": [],
   "source": [
    "lista2 = lista1"
   ]
  },
  {
   "cell_type": "code",
   "execution_count": 8,
   "id": "047741fe",
   "metadata": {},
   "outputs": [],
   "source": [
    "lista1[0] = 1000"
   ]
  },
  {
   "cell_type": "code",
   "execution_count": 9,
   "id": "e08b31f2",
   "metadata": {},
   "outputs": [
    {
     "data": {
      "text/plain": [
       "[1000, 2, 3, 4, 5]"
      ]
     },
     "execution_count": 9,
     "metadata": {},
     "output_type": "execute_result"
    }
   ],
   "source": [
    "lista2"
   ]
  },
  {
   "cell_type": "code",
   "execution_count": 10,
   "id": "14c27027",
   "metadata": {},
   "outputs": [],
   "source": [
    "# Las listas si se referencian"
   ]
  },
  {
   "cell_type": "code",
   "execution_count": 11,
   "id": "a213052e",
   "metadata": {},
   "outputs": [],
   "source": [
    "# Creamos una funcion que nos muestra una representacion de la posicion\n",
    "# en memoria"
   ]
  },
  {
   "cell_type": "code",
   "execution_count": 12,
   "id": "b20d2521",
   "metadata": {},
   "outputs": [],
   "source": [
    "def memoria(obj):\n",
    "    print(f\"{hex(id(obj))}\")"
   ]
  },
  {
   "cell_type": "code",
   "execution_count": 13,
   "id": "6a1558a7",
   "metadata": {},
   "outputs": [
    {
     "name": "stdout",
     "output_type": "stream",
     "text": [
      "0x16c89f9cec0\n"
     ]
    }
   ],
   "source": [
    "memoria(lista1)"
   ]
  },
  {
   "cell_type": "code",
   "execution_count": 14,
   "id": "5a1c1fd5",
   "metadata": {},
   "outputs": [
    {
     "name": "stdout",
     "output_type": "stream",
     "text": [
      "0x16c89f9cec0\n"
     ]
    }
   ],
   "source": [
    "memoria(lista2)"
   ]
  },
  {
   "cell_type": "code",
   "execution_count": 15,
   "id": "5184d0cb",
   "metadata": {},
   "outputs": [
    {
     "name": "stdout",
     "output_type": "stream",
     "text": [
      "0x16c89e615b0\n"
     ]
    }
   ],
   "source": [
    "memoria(a)"
   ]
  },
  {
   "cell_type": "code",
   "execution_count": 16,
   "id": "ce5241b9",
   "metadata": {},
   "outputs": [
    {
     "name": "stdout",
     "output_type": "stream",
     "text": [
      "0x7ffb5d2ce448\n"
     ]
    }
   ],
   "source": [
    "memoria(b)"
   ]
  },
  {
   "cell_type": "code",
   "execution_count": null,
   "id": "b169fe67",
   "metadata": {},
   "outputs": [],
   "source": [
    "# No es lo mismo asignar un numero, un caracter o un booleano\n",
    "# que asignar una lista, un conjunto, una tupla o un diccionario"
   ]
  }
 ],
 "metadata": {
  "kernelspec": {
   "display_name": "Python 3 (ipykernel)",
   "language": "python",
   "name": "python3"
  },
  "language_info": {
   "codemirror_mode": {
    "name": "ipython",
    "version": 3
   },
   "file_extension": ".py",
   "mimetype": "text/x-python",
   "name": "python",
   "nbconvert_exporter": "python",
   "pygments_lexer": "ipython3",
   "version": "3.11.1"
  }
 },
 "nbformat": 4,
 "nbformat_minor": 5
}
