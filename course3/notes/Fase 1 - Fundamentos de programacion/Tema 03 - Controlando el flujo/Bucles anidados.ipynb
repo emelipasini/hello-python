{
 "cells": [
  {
   "cell_type": "code",
   "execution_count": 2,
   "id": "a9e6a76c",
   "metadata": {},
   "outputs": [],
   "source": [
    "lista = [\n",
    "    \"Esto es un texto\",\n",
    "    (1, 5, 10, 15, 20, 25),\n",
    "    [\"Azul\", \"Verde\", \"Amarillo\"]\n",
    "]"
   ]
  },
  {
   "cell_type": "code",
   "execution_count": 3,
   "id": "899d08a9",
   "metadata": {},
   "outputs": [
    {
     "name": "stdout",
     "output_type": "stream",
     "text": [
      "Azul\n",
      "Verde\n",
      "Amarillo\n"
     ]
    }
   ],
   "source": [
    "for color in lista[-1]:\n",
    "    print(color)"
   ]
  },
  {
   "cell_type": "code",
   "execution_count": 4,
   "id": "0e23d6ad",
   "metadata": {},
   "outputs": [
    {
     "name": "stdout",
     "output_type": "stream",
     "text": [
      "Esto es un texto\n",
      "(1, 5, 10, 15, 20, 25)\n",
      "['Azul', 'Verde', 'Amarillo']\n"
     ]
    }
   ],
   "source": [
    "for coleccion in lista:\n",
    "    print(coleccion)"
   ]
  },
  {
   "cell_type": "code",
   "execution_count": 5,
   "id": "7e14ffe6",
   "metadata": {},
   "outputs": [
    {
     "name": "stdout",
     "output_type": "stream",
     "text": [
      "Esto es un texto => E\n",
      "Esto es un texto => s\n",
      "Esto es un texto => t\n",
      "Esto es un texto => o\n",
      "Esto es un texto =>  \n",
      "Esto es un texto => e\n",
      "Esto es un texto => s\n",
      "Esto es un texto =>  \n",
      "Esto es un texto => u\n",
      "Esto es un texto => n\n",
      "Esto es un texto =>  \n",
      "Esto es un texto => t\n",
      "Esto es un texto => e\n",
      "Esto es un texto => x\n",
      "Esto es un texto => t\n",
      "Esto es un texto => o\n",
      "(1, 5, 10, 15, 20, 25) => 1\n",
      "(1, 5, 10, 15, 20, 25) => 5\n",
      "(1, 5, 10, 15, 20, 25) => 10\n",
      "(1, 5, 10, 15, 20, 25) => 15\n",
      "(1, 5, 10, 15, 20, 25) => 20\n",
      "(1, 5, 10, 15, 20, 25) => 25\n",
      "['Azul', 'Verde', 'Amarillo'] => Azul\n",
      "['Azul', 'Verde', 'Amarillo'] => Verde\n",
      "['Azul', 'Verde', 'Amarillo'] => Amarillo\n"
     ]
    }
   ],
   "source": [
    "for coleccion in lista:\n",
    "    for elemento in coleccion:\n",
    "        print(coleccion, \"=>\", elemento)"
   ]
  },
  {
   "cell_type": "code",
   "execution_count": 6,
   "id": "859bf3c1",
   "metadata": {},
   "outputs": [
    {
     "name": "stdout",
     "output_type": "stream",
     "text": [
      "E\n",
      "s\n",
      "t\n",
      "o\n",
      " \n",
      "e\n",
      "s\n",
      " \n",
      "u\n",
      "n\n",
      " \n",
      "t\n",
      "e\n",
      "x\n",
      "t\n",
      "o\n",
      "1\n",
      "5\n",
      "10\n",
      "15\n",
      "20\n",
      "25\n",
      "Azul\n",
      "Verde\n",
      "Amarillo\n"
     ]
    }
   ],
   "source": [
    "for coleccion_id, coleccion in enumerate(lista):\n",
    "    for elemento_id, elemento in enumerate(coleccion):\n",
    "        print(lista[coleccion_id][elemento_id])"
   ]
  },
  {
   "cell_type": "code",
   "execution_count": 7,
   "id": "eb45eb65",
   "metadata": {},
   "outputs": [],
   "source": [
    "tabla = [\n",
    "    [0,0,0],\n",
    "    [1,1,1],\n",
    "    [2,2,2]\n",
    "]"
   ]
  },
  {
   "cell_type": "code",
   "execution_count": 9,
   "id": "1992facd",
   "metadata": {},
   "outputs": [
    {
     "name": "stdout",
     "output_type": "stream",
     "text": [
      "0 0 0 \n",
      "1 1 1 \n",
      "2 2 2 \n"
     ]
    }
   ],
   "source": [
    "for fila in tabla:\n",
    "    for columna in fila:\n",
    "        print(columna, end=\" \")\n",
    "    print()"
   ]
  },
  {
   "cell_type": "code",
   "execution_count": 10,
   "id": "1a901641",
   "metadata": {},
   "outputs": [
    {
     "name": "stdout",
     "output_type": "stream",
     "text": [
      "0 0 0 \n",
      "1 1 1 \n",
      "2 2 2 \n"
     ]
    }
   ],
   "source": [
    "# Para hacer modificaciones se necesitan los indices\n",
    "for i, fila in enumerate(tabla):\n",
    "    for j, columna in enumerate(fila):\n",
    "        print(tabla[i][j], end=\" \")\n",
    "    print()"
   ]
  },
  {
   "cell_type": "code",
   "execution_count": 11,
   "id": "3b6bf73b",
   "metadata": {},
   "outputs": [],
   "source": [
    "tabla2 = [\n",
    "    [3,3,3],\n",
    "    [4,4,4],\n",
    "    [5,5,5]\n",
    "]\n",
    "\n",
    "tabla3 = [\n",
    "    [6,6,6],\n",
    "    [7,7,7],\n",
    "    [8,8,8]\n",
    "]"
   ]
  },
  {
   "cell_type": "code",
   "execution_count": 12,
   "id": "674a1a83",
   "metadata": {},
   "outputs": [],
   "source": [
    "cubo = [tabla, tabla2, tabla3]"
   ]
  },
  {
   "cell_type": "code",
   "execution_count": 13,
   "id": "1d49161d",
   "metadata": {},
   "outputs": [
    {
     "name": "stdout",
     "output_type": "stream",
     "text": [
      "2\n"
     ]
    }
   ],
   "source": [
    "print(cubo[0][2][1])"
   ]
  },
  {
   "cell_type": "code",
   "execution_count": 14,
   "id": "d8746bf2",
   "metadata": {},
   "outputs": [
    {
     "name": "stdout",
     "output_type": "stream",
     "text": [
      "7\n"
     ]
    }
   ],
   "source": [
    "print(cubo[2][1][2])"
   ]
  },
  {
   "cell_type": "code",
   "execution_count": 15,
   "id": "faaa98b0",
   "metadata": {},
   "outputs": [
    {
     "name": "stdout",
     "output_type": "stream",
     "text": [
      "0\n",
      "0\n",
      "0\n",
      "1\n",
      "1\n",
      "1\n",
      "2\n",
      "2\n",
      "2\n",
      "3\n",
      "3\n",
      "3\n",
      "4\n",
      "4\n",
      "4\n",
      "5\n",
      "5\n",
      "5\n",
      "6\n",
      "6\n",
      "6\n",
      "7\n",
      "7\n",
      "7\n",
      "8\n",
      "8\n",
      "8\n"
     ]
    }
   ],
   "source": [
    "for tabla in cubo:\n",
    "    for fila in tabla:\n",
    "        for columna in fila:\n",
    "            print(columna)"
   ]
  },
  {
   "cell_type": "code",
   "execution_count": 19,
   "id": "f15f894e",
   "metadata": {},
   "outputs": [
    {
     "name": "stdout",
     "output_type": "stream",
     "text": [
      "0 0 0 \n",
      "1 1 1 \n",
      "2 2 2 \n",
      "\n",
      "3 3 3 \n",
      "4 4 4 \n",
      "5 5 5 \n",
      "\n",
      "6 6 6 \n",
      "7 7 7 \n",
      "8 8 8 \n",
      "\n"
     ]
    }
   ],
   "source": [
    "for k,tabla in enumerate(cubo):\n",
    "    for i,fila in enumerate(tabla):\n",
    "        for j,columna in enumerate(fila):\n",
    "            print(cubo[k][i][j], end=\" \")\n",
    "        print()\n",
    "    print()"
   ]
  },
  {
   "cell_type": "code",
   "execution_count": 20,
   "id": "b9ee8256",
   "metadata": {},
   "outputs": [],
   "source": [
    "matriz = [\n",
    "    [8,  7,  0],\n",
    "    [34, 2, -1],\n",
    "    [5, -5, 12]\n",
    "]"
   ]
  },
  {
   "cell_type": "code",
   "execution_count": 21,
   "id": "8a9eb55e",
   "metadata": {},
   "outputs": [],
   "source": [
    "for i,fila in enumerate(matriz):\n",
    "    for j,columna in enumerate(fila):\n",
    "        if(matriz[i][j] % 2 == 0):\n",
    "            matriz[i][j] = 0\n",
    "        else:\n",
    "            matriz[i][j] = 1"
   ]
  },
  {
   "cell_type": "code",
   "execution_count": 22,
   "id": "ea5832e4",
   "metadata": {},
   "outputs": [
    {
     "name": "stdout",
     "output_type": "stream",
     "text": [
      "[[0, 1, 0], [0, 0, 1], [1, 1, 0]]\n"
     ]
    }
   ],
   "source": [
    "print(matriz)"
   ]
  },
  {
   "cell_type": "code",
   "execution_count": null,
   "id": "566d49a9",
   "metadata": {},
   "outputs": [],
   "source": []
  }
 ],
 "metadata": {
  "kernelspec": {
   "display_name": "Python 3 (ipykernel)",
   "language": "python",
   "name": "python3"
  },
  "language_info": {
   "codemirror_mode": {
    "name": "ipython",
    "version": 3
   },
   "file_extension": ".py",
   "mimetype": "text/x-python",
   "name": "python",
   "nbconvert_exporter": "python",
   "pygments_lexer": "ipython3",
   "version": "3.11.1"
  }
 },
 "nbformat": 4,
 "nbformat_minor": 5
}
