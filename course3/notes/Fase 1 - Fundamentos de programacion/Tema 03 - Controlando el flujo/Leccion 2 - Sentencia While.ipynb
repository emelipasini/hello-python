{
 "cells": [
  {
   "cell_type": "code",
   "execution_count": 1,
   "metadata": {},
   "outputs": [
    {
     "name": "stdout",
     "output_type": "stream",
     "text": [
      "c vale 0\n",
      "c vale 1\n",
      "c vale 2\n",
      "c vale 3\n",
      "c vale 4\n",
      "Se ha completado la iteracion y c vale 5\n"
     ]
    }
   ],
   "source": [
    "c = 0\n",
    "while c < 5:\n",
    "    print(\"c vale\", c)\n",
    "    c += 1\n",
    "else:\n",
    "    print(\"Se ha completado la iteracion y c vale\", c)"
   ]
  },
  {
   "cell_type": "code",
   "execution_count": 2,
   "metadata": {},
   "outputs": [
    {
     "name": "stdout",
     "output_type": "stream",
     "text": [
      "c vale 0\n",
      "c vale 1\n",
      "c vale 2\n",
      "c vale 3\n",
      "Deteniendo el bucle...\n"
     ]
    }
   ],
   "source": [
    "c = 0\n",
    "while c < 10:\n",
    "    if c == 4:\n",
    "        print(\"Deteniendo el bucle...\")\n",
    "        break\n",
    "    print(\"c vale\", c)\n",
    "    c += 1\n",
    "else:\n",
    "    print(\"Se ha completado la iteracion y c vale\", c)"
   ]
  },
  {
   "cell_type": "code",
   "execution_count": 5,
   "metadata": {},
   "outputs": [
    {
     "name": "stdout",
     "output_type": "stream",
     "text": [
      "c vale 1\n",
      "c vale 2\n",
      "c vale 3\n",
      "Salto a la siguiente iteracion\n",
      "c vale 5\n",
      "c vale 6\n",
      "c vale 7\n",
      "Se ha completado la iteracion y c vale 7\n"
     ]
    }
   ],
   "source": [
    "c = 0\n",
    "while c < 7:\n",
    "    c += 1\n",
    "    if c == 4:\n",
    "        print(\"Salto a la siguiente iteracion\")\n",
    "        continue\n",
    "    print(\"c vale\", c)\n",
    "else:\n",
    "    print(\"Se ha completado la iteracion y c vale\", c)"
   ]
  },
  {
   "cell_type": "code",
   "execution_count": 7,
   "metadata": {},
   "outputs": [
    {
     "name": "stdout",
     "output_type": "stream",
     "text": [
      "Bienvenido al menu interactivo\n",
      "Elige una opcion:\n",
      "    1) Saludo\n",
      "    2) Sumar dos numeros\n",
      "    3) Salir\n",
      "3\n",
      "Adios!\n"
     ]
    }
   ],
   "source": [
    "print(\"Bienvenido al menu interactivo\")\n",
    "while True:\n",
    "    print(\"\"\"Elige una opcion:\n",
    "    1) Saludo\n",
    "    2) Sumar dos numeros\n",
    "    3) Salir\"\"\")\n",
    "    opcion = input()\n",
    "    if opcion == \"1\":\n",
    "        print(\"Hola desde Python!\")\n",
    "    elif opcion == \"2\":\n",
    "        n1 = float(input(\"Introduce el primer numero: \"))\n",
    "        n2 = float(input(\"Introduce el segundo numero: \"))\n",
    "        print(\"La suma es: \", n1 + n2)\n",
    "    elif opcion == \"3\":\n",
    "        print(\"Adios!\")\n",
    "        break\n",
    "    else:\n",
    "        print(\"Comando incorrecto, elige una opcion\")"
   ]
  },
  {
   "cell_type": "code",
   "execution_count": 9,
   "metadata": {},
   "outputs": [
    {
     "name": "stdout",
     "output_type": "stream",
     "text": [
      "Introduzca un numero entero: 1\n",
      "Introduzca otro numero entero: 2\n",
      "Introduzca otro numero entero: 3\n",
      "Introduzca otro numero entero: 4\n",
      "Introduzca otro numero entero: 5\n",
      "Ese es un numero correcto!\n"
     ]
    }
   ],
   "source": [
    "numero = int(input(\"Introduzca un numero entero: \"))\n",
    "while numero % 5 != 0:\n",
    "    numero = int(input(\"Introduzca otro numero entero: \"))\n",
    "else:\n",
    "    print(\"Ese es un numero correcto!\")"
   ]
  },
  {
   "cell_type": "code",
   "execution_count": null,
   "metadata": {},
   "outputs": [],
   "source": []
  }
 ],
 "metadata": {
  "kernelspec": {
   "display_name": "Python 3 (ipykernel)",
   "language": "python",
   "name": "python3"
  },
  "language_info": {
   "codemirror_mode": {
    "name": "ipython",
    "version": 3
   },
   "file_extension": ".py",
   "mimetype": "text/x-python",
   "name": "python",
   "nbconvert_exporter": "python",
   "pygments_lexer": "ipython3",
   "version": "3.11.1"
  }
 },
 "nbformat": 4,
 "nbformat_minor": 1
}
