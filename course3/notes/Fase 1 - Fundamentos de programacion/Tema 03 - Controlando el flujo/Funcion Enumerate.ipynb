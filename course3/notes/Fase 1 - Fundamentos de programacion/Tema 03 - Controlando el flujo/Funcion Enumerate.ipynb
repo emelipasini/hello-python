{
 "cells": [
  {
   "cell_type": "code",
   "execution_count": 1,
   "id": "12a0b8d5",
   "metadata": {},
   "outputs": [
    {
     "name": "stdout",
     "output_type": "stream",
     "text": [
      "Hola\n",
      "4\n",
      "Adios\n",
      "[1, 2, 3]\n"
     ]
    }
   ],
   "source": [
    "elementos = [\"Hola\", 4, \"Adios\", [1,2,3]]\n",
    "\n",
    "for e in elementos:\n",
    "    print(e)"
   ]
  },
  {
   "cell_type": "code",
   "execution_count": 2,
   "id": "456fb0a5",
   "metadata": {},
   "outputs": [
    {
     "name": "stdout",
     "output_type": "stream",
     "text": [
      "0 Hola\n",
      "1 4\n",
      "2 Adios\n",
      "3 [1, 2, 3]\n"
     ]
    }
   ],
   "source": [
    "for i,e in enumerate(elementos):\n",
    "    print(i, e)"
   ]
  },
  {
   "cell_type": "code",
   "execution_count": 3,
   "id": "dde9922c",
   "metadata": {},
   "outputs": [],
   "source": [
    "# Asignacion multiple\n",
    "a, b, c = 10, 50, 100"
   ]
  },
  {
   "cell_type": "code",
   "execution_count": 4,
   "id": "57f28b3e",
   "metadata": {},
   "outputs": [
    {
     "name": "stdout",
     "output_type": "stream",
     "text": [
      "10 50 100\n"
     ]
    }
   ],
   "source": [
    "print(a, b, c)"
   ]
  },
  {
   "cell_type": "code",
   "execution_count": 6,
   "id": "8e4af478",
   "metadata": {},
   "outputs": [],
   "source": [
    "# Seria lo mismo que hacerlo para una Tupla\n",
    "(d, e, f) = (10, 50, 100)"
   ]
  },
  {
   "cell_type": "code",
   "execution_count": 7,
   "id": "fe5cee84",
   "metadata": {},
   "outputs": [
    {
     "name": "stdout",
     "output_type": "stream",
     "text": [
      "10\n",
      "10 50 100\n"
     ]
    }
   ],
   "source": [
    "print(d)\n",
    "print(d, e, f)"
   ]
  },
  {
   "cell_type": "code",
   "execution_count": 8,
   "id": "af3a1bdf",
   "metadata": {},
   "outputs": [],
   "source": [
    "# Tambien es lo mismo para una Lista\n",
    "[g, h, i] = [10, 50, 100]"
   ]
  },
  {
   "cell_type": "code",
   "execution_count": 9,
   "id": "59964f70",
   "metadata": {},
   "outputs": [
    {
     "data": {
      "text/plain": [
       "(10, 50, 100)"
      ]
     },
     "execution_count": 9,
     "metadata": {},
     "output_type": "execute_result"
    }
   ],
   "source": [
    "a, b, c"
   ]
  },
  {
   "cell_type": "code",
   "execution_count": 10,
   "id": "669b0135",
   "metadata": {},
   "outputs": [],
   "source": [
    "def function():\n",
    "    return 10, 50, 100\n",
    "\n",
    "j, k, l = function()"
   ]
  },
  {
   "cell_type": "code",
   "execution_count": 11,
   "id": "9672d3d7",
   "metadata": {},
   "outputs": [
    {
     "data": {
      "text/plain": [
       "(10, 50, 100)"
      ]
     },
     "execution_count": 11,
     "metadata": {},
     "output_type": "execute_result"
    }
   ],
   "source": [
    "j,k,l"
   ]
  },
  {
   "cell_type": "code",
   "execution_count": 12,
   "id": "7803380e",
   "metadata": {},
   "outputs": [
    {
     "data": {
      "text/plain": [
       "<enumerate at 0x2286d8a7330>"
      ]
     },
     "execution_count": 12,
     "metadata": {},
     "output_type": "execute_result"
    }
   ],
   "source": [
    "enumerate(elementos)"
   ]
  },
  {
   "cell_type": "code",
   "execution_count": 14,
   "id": "a21cfc40",
   "metadata": {},
   "outputs": [
    {
     "data": {
      "text/plain": [
       "[(0, 'Hola'), (1, 4), (2, 'Adios'), (3, [1, 2, 3])]"
      ]
     },
     "execution_count": 14,
     "metadata": {},
     "output_type": "execute_result"
    }
   ],
   "source": [
    "# Obtenemos una Lista con Tuplas\n",
    "list(enumerate(elementos))"
   ]
  },
  {
   "cell_type": "code",
   "execution_count": 15,
   "id": "901a5a72",
   "metadata": {},
   "outputs": [
    {
     "name": "stdout",
     "output_type": "stream",
     "text": [
      "(0, 'Hola')\n",
      "(1, 4)\n",
      "(2, 'Adios')\n",
      "(3, [1, 2, 3])\n"
     ]
    }
   ],
   "source": [
    "for tupla in enumerate(elementos):\n",
    "    print(tupla)"
   ]
  },
  {
   "cell_type": "code",
   "execution_count": 16,
   "id": "3d99b065",
   "metadata": {},
   "outputs": [
    {
     "name": "stdout",
     "output_type": "stream",
     "text": [
      "0 Hola\n",
      "1 4\n",
      "2 Adios\n",
      "3 [1, 2, 3]\n"
     ]
    }
   ],
   "source": [
    "for indice, valor in enumerate(elementos):\n",
    "    print(indice, valor)"
   ]
  },
  {
   "cell_type": "code",
   "execution_count": 17,
   "id": "eb19eec4",
   "metadata": {},
   "outputs": [],
   "source": [
    "# Enumerate transforma una Lista a otra formada por Tuplas que contienen\n",
    "# la posicion del elemento en la lista y el elemento original\n",
    "# Cuando usamos el for podemos separar los valores en dos variables a traves\n",
    "# la asignacion multiple"
   ]
  },
  {
   "cell_type": "code",
   "execution_count": 21,
   "id": "91b53c6b",
   "metadata": {},
   "outputs": [
    {
     "name": "stdout",
     "output_type": "stream",
     "text": [
      "['H', 'M']\n"
     ]
    }
   ],
   "source": [
    "palabras = [\"Hola\", \"Mundo\"]\n",
    "\n",
    "for i,palabra in enumerate(palabras):\n",
    "    palabras[i] = palabras[i][0]\n",
    "\n",
    "print(palabras)"
   ]
  },
  {
   "cell_type": "code",
   "execution_count": 31,
   "id": "92c2da17",
   "metadata": {},
   "outputs": [
    {
     "name": "stdout",
     "output_type": "stream",
     "text": [
      "Introduzca un numero entero entre 1 y 9: 7\n"
     ]
    },
    {
     "data": {
      "text/plain": [
       "[7, 14, 21, 28, 35, 42, 49, 56, 63, 70, 77, 84, 91, 98]"
      ]
     },
     "execution_count": 31,
     "metadata": {},
     "output_type": "execute_result"
    }
   ],
   "source": [
    "numero = 0\n",
    "\n",
    "while(numero < 1 or numero > 9):\n",
    "    numero = int(input(\"Introduzca un numero entero entre 1 y 9: \"))\n",
    "else:\n",
    "    multiplos = list(range(numero, 101, numero))\n",
    "\n",
    "multiplos"
   ]
  },
  {
   "cell_type": "code",
   "execution_count": 25,
   "id": "8a88f59d",
   "metadata": {},
   "outputs": [
    {
     "data": {
      "text/plain": [
       "[0, 1, 2, 3, 4, 5, 6, 7, 8, 9]"
      ]
     },
     "execution_count": 25,
     "metadata": {},
     "output_type": "execute_result"
    }
   ],
   "source": [
    "list(range(0, 10, 1))"
   ]
  },
  {
   "cell_type": "code",
   "execution_count": 28,
   "id": "3328172b",
   "metadata": {},
   "outputs": [
    {
     "data": {
      "text/plain": [
       "[5,\n",
       " 10,\n",
       " 15,\n",
       " 20,\n",
       " 25,\n",
       " 30,\n",
       " 35,\n",
       " 40,\n",
       " 45,\n",
       " 50,\n",
       " 55,\n",
       " 60,\n",
       " 65,\n",
       " 70,\n",
       " 75,\n",
       " 80,\n",
       " 85,\n",
       " 90,\n",
       " 95,\n",
       " 100]"
      ]
     },
     "execution_count": 28,
     "metadata": {},
     "output_type": "execute_result"
    }
   ],
   "source": [
    "list(range(5, 101, 5))"
   ]
  },
  {
   "cell_type": "code",
   "execution_count": null,
   "id": "21297242",
   "metadata": {},
   "outputs": [],
   "source": []
  }
 ],
 "metadata": {
  "kernelspec": {
   "display_name": "Python 3 (ipykernel)",
   "language": "python",
   "name": "python3"
  },
  "language_info": {
   "codemirror_mode": {
    "name": "ipython",
    "version": 3
   },
   "file_extension": ".py",
   "mimetype": "text/x-python",
   "name": "python",
   "nbconvert_exporter": "python",
   "pygments_lexer": "ipython3",
   "version": "3.11.1"
  }
 },
 "nbformat": 4,
 "nbformat_minor": 5
}
