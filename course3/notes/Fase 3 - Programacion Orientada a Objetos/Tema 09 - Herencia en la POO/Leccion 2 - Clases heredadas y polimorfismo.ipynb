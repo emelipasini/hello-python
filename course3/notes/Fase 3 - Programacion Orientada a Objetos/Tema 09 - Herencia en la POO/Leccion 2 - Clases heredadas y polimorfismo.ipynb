{
 "cells": [
  {
   "cell_type": "code",
   "execution_count": 20,
   "metadata": {},
   "outputs": [],
   "source": [
    "class Producto:\n",
    "    def __init__(self, referencia, nombre, pvp, descripcion):\n",
    "        self.referencia = referencia\n",
    "        self.nombre = nombre\n",
    "        self.pvp = pvp\n",
    "        self.descripcion = descripcion\n",
    "        \n",
    "    def __str__(self):\n",
    "        return f\"\"\"\\\n",
    "        REFERENCIA\\t{self.referencia}\n",
    "        NOMBRE\\t\\t{self.nombre}\n",
    "        PVP\\t\\t{self.pvp}\n",
    "        DESCRIPCIÓN\\t{self.descripcion}\"\"\"\n",
    "    \n",
    "    def ofertar(self, rebaja):\n",
    "        self.pvp = self.pvp - (self.pvp / 100 * rebaja)\n",
    "\n",
    "\n",
    "class Adorno(Producto):\n",
    "    pass\n",
    "\n",
    "\n",
    "class Alimento(Producto):\n",
    "    def __init__(self, referencia, nombre, pvp, descripcion, productor, distribuidor):\n",
    "        Producto.__init__(self, referencia, nombre, pvp, descripcion)\n",
    "        \n",
    "        self.productor = productor\n",
    "        self.distribuidor = distribuidor\n",
    "    \n",
    "    def __str__(self):\n",
    "        desc = Producto.__str__(self)\n",
    "        \n",
    "        return desc + f\"\"\"\n",
    "        PRODUCTOR\\t{self.productor}\n",
    "        DISTRIBUIDOR\\t{self.distribuidor}\"\"\"\n",
    "\n",
    "\n",
    "class Libro(Producto):\n",
    "    def __init__(self, referencia, nombre, pvp, descripcion, isbn, autor):\n",
    "        Producto.__init__(self, referencia, nombre, pvp, descripcion)\n",
    "        \n",
    "        self.isbn = isbn\n",
    "        self.autor = autor\n",
    "    \n",
    "    def __str__(self):\n",
    "        desc = Producto.__str__(self)\n",
    "        \n",
    "        return desc + f\"\"\"\n",
    "        ISBN\\t\\t{self.isbn}\n",
    "        AUTOR\\t\\t{self.autor}\"\"\""
   ]
  },
  {
   "cell_type": "code",
   "execution_count": 21,
   "metadata": {},
   "outputs": [],
   "source": [
    "adorno = Adorno(2034, \"Vaso adornado\", 15, \"Vaso de porcelana con arboles\")\n",
    "alimento = Alimento(2035, \"Botella de aceite de oliva\", 5, \"250ml\", \"Aceitera SRL\", \"Distribuidora SA\")\n",
    "libro = Libro(2036, \"Cocina mediterranea\", 9, \"Recetas sanas\", \"0-123456-78-9\", \"Juana Petrona\")"
   ]
  },
  {
   "cell_type": "code",
   "execution_count": 3,
   "metadata": {},
   "outputs": [],
   "source": [
    "productos = [adorno, alimento]"
   ]
  },
  {
   "cell_type": "code",
   "execution_count": 4,
   "metadata": {},
   "outputs": [],
   "source": [
    "productos.append(libro)"
   ]
  },
  {
   "cell_type": "code",
   "execution_count": 5,
   "metadata": {},
   "outputs": [
    {
     "data": {
      "text/plain": [
       "[<__main__.Adorno at 0x14ad73b9e90>,\n",
       " <__main__.Alimento at 0x14ad73bb550>,\n",
       " <__main__.Libro at 0x14ad73bbad0>]"
      ]
     },
     "execution_count": 5,
     "metadata": {},
     "output_type": "execute_result"
    }
   ],
   "source": [
    "productos"
   ]
  },
  {
   "cell_type": "code",
   "execution_count": 6,
   "metadata": {},
   "outputs": [
    {
     "name": "stdout",
     "output_type": "stream",
     "text": [
      "        REFERENCIA\t2034\n",
      "        NOMBRE\t\tVaso adornado\n",
      "        PVP\t\t15\n",
      "        DESCRIPCIÓN\tVaso de porcelana con arboles \n",
      "\n",
      "        REFERENCIA\t2035\n",
      "        NOMBRE\t\tBotella de aceite de oliva\n",
      "        PVP\t\t5\n",
      "        DESCRIPCIÓN\t250ml\n",
      "        PRODUCTOR\tAceitera SRL\n",
      "        DISTRIBUIDOR\tDistribuidora SA \n",
      "\n",
      "        REFERENCIA\t2036\n",
      "        NOMBRE\t\tCocina mediterranea\n",
      "        PVP\t\t9\n",
      "        DESCRIPCIÓN\tRecetas sanas\n",
      "        ISBN\t\t0-123456-78-9\n",
      "        AUTOR\t\tJuana Petrona \n",
      "\n"
     ]
    }
   ],
   "source": [
    "for p in productos:\n",
    "    print(p, \"\\n\")"
   ]
  },
  {
   "cell_type": "code",
   "execution_count": 7,
   "metadata": {},
   "outputs": [
    {
     "name": "stdout",
     "output_type": "stream",
     "text": [
      "2034 Vaso adornado\n",
      "2035 Botella de aceite de oliva\n",
      "2036 Cocina mediterranea\n"
     ]
    }
   ],
   "source": [
    "for p in productos:\n",
    "    print(p.referencia, p.nombre)"
   ]
  },
  {
   "cell_type": "code",
   "execution_count": 8,
   "metadata": {},
   "outputs": [
    {
     "ename": "AttributeError",
     "evalue": "'Adorno' object has no attribute 'autor'",
     "output_type": "error",
     "traceback": [
      "\u001b[1;31m---------------------------------------------------------------------------\u001b[0m",
      "\u001b[1;31mAttributeError\u001b[0m                            Traceback (most recent call last)",
      "Cell \u001b[1;32mIn[8], line 2\u001b[0m\n\u001b[0;32m      1\u001b[0m \u001b[38;5;28;01mfor\u001b[39;00m p \u001b[38;5;129;01min\u001b[39;00m productos:\n\u001b[1;32m----> 2\u001b[0m     \u001b[38;5;28mprint\u001b[39m(\u001b[43mp\u001b[49m\u001b[38;5;241;43m.\u001b[39;49m\u001b[43mautor\u001b[49m)\n",
      "\u001b[1;31mAttributeError\u001b[0m: 'Adorno' object has no attribute 'autor'"
     ]
    }
   ],
   "source": [
    "for p in productos:\n",
    "    print(p.autor)"
   ]
  },
  {
   "cell_type": "code",
   "execution_count": 9,
   "metadata": {},
   "outputs": [
    {
     "name": "stdout",
     "output_type": "stream",
     "text": [
      "2034 Vaso adornado\n",
      "2035 Botella de aceite de oliva Aceitera SRL\n",
      "2036 Cocina mediterranea Juana Petrona\n"
     ]
    }
   ],
   "source": [
    "for p in productos:\n",
    "    if isinstance(p, Adorno):\n",
    "        print(p.referencia, p.nombre)\n",
    "    elif isinstance(p, Alimento):\n",
    "        print(p.referencia, p.nombre, p.productor)\n",
    "    elif isinstance(p, Libro):\n",
    "        print(p.referencia, p.nombre, p.autor)"
   ]
  },
  {
   "cell_type": "code",
   "execution_count": 10,
   "metadata": {},
   "outputs": [],
   "source": [
    "def rebajar_producto(p, rebaja):\n",
    "    p.pvp = p.pvp - (p.pvp / 100 * rebaja)\n",
    "    return p"
   ]
  },
  {
   "cell_type": "code",
   "execution_count": 12,
   "metadata": {},
   "outputs": [
    {
     "name": "stdout",
     "output_type": "stream",
     "text": [
      "        REFERENCIA\t2035\n",
      "        NOMBRE\t\tBotella de aceite de oliva\n",
      "        PVP\t\t4.5\n",
      "        DESCRIPCIÓN\t250ml\n",
      "        PRODUCTOR\tAceitera SRL\n",
      "        DISTRIBUIDOR\tDistribuidora SA\n"
     ]
    }
   ],
   "source": [
    "alimento_rebajado = rebajar_producto(alimento, 10)\n",
    "print(alimento_rebajado)"
   ]
  },
  {
   "cell_type": "code",
   "execution_count": 13,
   "metadata": {},
   "outputs": [
    {
     "name": "stdout",
     "output_type": "stream",
     "text": [
      "        REFERENCIA\t2035\n",
      "        NOMBRE\t\tBotella de aceite de oliva\n",
      "        PVP\t\t4.5\n",
      "        DESCRIPCIÓN\t250ml\n",
      "        PRODUCTOR\tAceitera SRL\n",
      "        DISTRIBUIDOR\tDistribuidora SA\n"
     ]
    }
   ],
   "source": [
    "print(alimento)"
   ]
  },
  {
   "cell_type": "code",
   "execution_count": 14,
   "metadata": {},
   "outputs": [],
   "source": [
    "# Los objetos se pasan por referencia y siempre se modifica el original"
   ]
  },
  {
   "cell_type": "code",
   "execution_count": 15,
   "metadata": {},
   "outputs": [],
   "source": [
    "import copy\n",
    "\n",
    "copia_adorno = copy.copy(adorno)"
   ]
  },
  {
   "cell_type": "code",
   "execution_count": 16,
   "metadata": {},
   "outputs": [],
   "source": [
    "copia_adorno.pvp = 25"
   ]
  },
  {
   "cell_type": "code",
   "execution_count": 17,
   "metadata": {},
   "outputs": [
    {
     "name": "stdout",
     "output_type": "stream",
     "text": [
      "        REFERENCIA\t2034\n",
      "        NOMBRE\t\tVaso adornado\n",
      "        PVP\t\t25\n",
      "        DESCRIPCIÓN\tVaso de porcelana con arboles\n"
     ]
    }
   ],
   "source": [
    "print(copia_adorno)"
   ]
  },
  {
   "cell_type": "code",
   "execution_count": 18,
   "metadata": {},
   "outputs": [
    {
     "name": "stdout",
     "output_type": "stream",
     "text": [
      "        REFERENCIA\t2034\n",
      "        NOMBRE\t\tVaso adornado\n",
      "        PVP\t\t15\n",
      "        DESCRIPCIÓN\tVaso de porcelana con arboles\n"
     ]
    }
   ],
   "source": [
    "print(adorno)"
   ]
  },
  {
   "cell_type": "code",
   "execution_count": 19,
   "metadata": {},
   "outputs": [],
   "source": [
    "# Si se quiere hacer una copia se tiene que usar la funcion copy"
   ]
  },
  {
   "cell_type": "code",
   "execution_count": 22,
   "metadata": {},
   "outputs": [
    {
     "name": "stdout",
     "output_type": "stream",
     "text": [
      "        REFERENCIA\t2036\n",
      "        NOMBRE\t\tCocina mediterranea\n",
      "        PVP\t\t9\n",
      "        DESCRIPCIÓN\tRecetas sanas\n",
      "        ISBN\t\t0-123456-78-9\n",
      "        AUTOR\t\tJuana Petrona\n"
     ]
    }
   ],
   "source": [
    "print(libro)"
   ]
  },
  {
   "cell_type": "code",
   "execution_count": 23,
   "metadata": {},
   "outputs": [],
   "source": [
    "libro.ofertar(10)"
   ]
  },
  {
   "cell_type": "code",
   "execution_count": 24,
   "metadata": {},
   "outputs": [
    {
     "name": "stdout",
     "output_type": "stream",
     "text": [
      "        REFERENCIA\t2036\n",
      "        NOMBRE\t\tCocina mediterranea\n",
      "        PVP\t\t8.1\n",
      "        DESCRIPCIÓN\tRecetas sanas\n",
      "        ISBN\t\t0-123456-78-9\n",
      "        AUTOR\t\tJuana Petrona\n"
     ]
    }
   ],
   "source": [
    "print(libro)"
   ]
  },
  {
   "cell_type": "code",
   "execution_count": null,
   "metadata": {},
   "outputs": [],
   "source": []
  }
 ],
 "metadata": {
  "kernelspec": {
   "display_name": "Python 3 (ipykernel)",
   "language": "python",
   "name": "python3"
  },
  "language_info": {
   "codemirror_mode": {
    "name": "ipython",
    "version": 3
   },
   "file_extension": ".py",
   "mimetype": "text/x-python",
   "name": "python",
   "nbconvert_exporter": "python",
   "pygments_lexer": "ipython3",
   "version": "3.11.1"
  }
 },
 "nbformat": 4,
 "nbformat_minor": 1
}
