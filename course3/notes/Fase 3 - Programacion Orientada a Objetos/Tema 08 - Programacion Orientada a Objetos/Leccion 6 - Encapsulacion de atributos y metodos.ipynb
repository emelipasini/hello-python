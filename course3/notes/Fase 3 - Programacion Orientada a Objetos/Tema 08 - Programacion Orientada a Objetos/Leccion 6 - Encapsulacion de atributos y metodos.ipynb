{
 "cells": [
  {
   "cell_type": "code",
   "execution_count": 1,
   "metadata": {},
   "outputs": [],
   "source": [
    "class Ejemplo:\n",
    "    __atributo_privado = \"Un atributo inalcanzable desde afuera\"\n",
    "    \n",
    "    def __metodo_privado(self):\n",
    "        print(\"Inalcanzable desde afuera\")"
   ]
  },
  {
   "cell_type": "code",
   "execution_count": 2,
   "metadata": {},
   "outputs": [],
   "source": [
    "e = Ejemplo()"
   ]
  },
  {
   "cell_type": "code",
   "execution_count": 3,
   "metadata": {},
   "outputs": [
    {
     "ename": "AttributeError",
     "evalue": "'Ejemplo' object has no attribute '__atributo_privado'",
     "output_type": "error",
     "traceback": [
      "\u001b[1;31m---------------------------------------------------------------------------\u001b[0m",
      "\u001b[1;31mAttributeError\u001b[0m                            Traceback (most recent call last)",
      "Cell \u001b[1;32mIn[3], line 1\u001b[0m\n\u001b[1;32m----> 1\u001b[0m \u001b[43me\u001b[49m\u001b[38;5;241;43m.\u001b[39;49m\u001b[43m__atributo_privado\u001b[49m\n",
      "\u001b[1;31mAttributeError\u001b[0m: 'Ejemplo' object has no attribute '__atributo_privado'"
     ]
    }
   ],
   "source": [
    "e.__atributo_privado"
   ]
  },
  {
   "cell_type": "code",
   "execution_count": 4,
   "metadata": {},
   "outputs": [
    {
     "ename": "AttributeError",
     "evalue": "'Ejemplo' object has no attribute '__metodo_privado'",
     "output_type": "error",
     "traceback": [
      "\u001b[1;31m---------------------------------------------------------------------------\u001b[0m",
      "\u001b[1;31mAttributeError\u001b[0m                            Traceback (most recent call last)",
      "Cell \u001b[1;32mIn[4], line 1\u001b[0m\n\u001b[1;32m----> 1\u001b[0m \u001b[43me\u001b[49m\u001b[38;5;241;43m.\u001b[39;49m\u001b[43m__metodo_privado\u001b[49m()\n",
      "\u001b[1;31mAttributeError\u001b[0m: 'Ejemplo' object has no attribute '__metodo_privado'"
     ]
    }
   ],
   "source": [
    "e.__metodo_privado()"
   ]
  },
  {
   "cell_type": "code",
   "execution_count": 5,
   "metadata": {},
   "outputs": [],
   "source": [
    "class Ejemplo:\n",
    "    __atributo_privado = \"Un atributo inalcanzable desde afuera\"\n",
    "    \n",
    "    def __metodo_privado(self):\n",
    "        print(\"Inalcanzable desde afuera\")\n",
    "        \n",
    "    def atributo_publico(self):\n",
    "        return self.__atributo_privado\n",
    "    \n",
    "    def metodo_publico(self):\n",
    "        return self.__metodo_privado()"
   ]
  },
  {
   "cell_type": "code",
   "execution_count": 6,
   "metadata": {},
   "outputs": [],
   "source": [
    "e = Ejemplo()"
   ]
  },
  {
   "cell_type": "code",
   "execution_count": 7,
   "metadata": {},
   "outputs": [
    {
     "data": {
      "text/plain": [
       "'Un atributo inalcanzable desde afuera'"
      ]
     },
     "execution_count": 7,
     "metadata": {},
     "output_type": "execute_result"
    }
   ],
   "source": [
    "e.atributo_publico()"
   ]
  },
  {
   "cell_type": "code",
   "execution_count": 9,
   "metadata": {},
   "outputs": [
    {
     "name": "stdout",
     "output_type": "stream",
     "text": [
      "Inalcanzable desde afuera\n"
     ]
    }
   ],
   "source": [
    "e.metodo_publico()"
   ]
  },
  {
   "cell_type": "code",
   "execution_count": null,
   "metadata": {},
   "outputs": [],
   "source": []
  }
 ],
 "metadata": {
  "kernelspec": {
   "display_name": "Python 3 (ipykernel)",
   "language": "python",
   "name": "python3"
  },
  "language_info": {
   "codemirror_mode": {
    "name": "ipython",
    "version": 3
   },
   "file_extension": ".py",
   "mimetype": "text/x-python",
   "name": "python",
   "nbconvert_exporter": "python",
   "pygments_lexer": "ipython3",
   "version": "3.11.1"
  }
 },
 "nbformat": 4,
 "nbformat_minor": 1
}
