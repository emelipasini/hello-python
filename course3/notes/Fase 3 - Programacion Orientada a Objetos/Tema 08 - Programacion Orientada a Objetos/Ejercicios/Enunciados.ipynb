{
 "cells": [
  {
   "cell_type": "markdown",
   "metadata": {},
   "source": [
    "# Tema 08 - Programacion Orientada a Objetos (Enunciados)\n",
    "*Nota: Estos ejercicios son optativos para hacer al final de la unidad y están pensados para apoyar tu aprendizaje*."
   ]
  },
  {
   "cell_type": "markdown",
   "metadata": {},
   "source": [
    "**En este ejercicio vas a trabajar el concepto de puntos, coordenadas y vectores sobre el plano cartesiano y cómo la programación Orientada a Objetos puede ser una excelente aliada para trabajar con ellos. No está pensado para que hagas ningún tipo de cálculo sino para que practiques la automatización de tareas.**\n",
    "\n",
    "*Nota: Creo que es un ejemplo muy interesante, punto de partida en la programación de gráficos, pero si consideras que esto no lo tuyo puedes simplemente pasar de largo. Ahora bien, debes ser consciente de que te vas a perder uno de los ejercicios más interesantes del curso.*\n",
    "\n",
    "**Antes de continuar voy a explicar brevemente los conceptos básicos por si alguien necesita un repaso.**\n",
    "\n",
    "## El plano cartesiano\n",
    "\n",
    "Representa un espacio bidimensional (en 2 dimensiones), formado por dos rectas perpendiculares, una horizontal y otra vertical que se cortan en un punto. La recta horizontal se denomina eje de las abscisas o **eje X**, mientras que la vertical recibe el nombre de eje de las ordenadas o simplemente **eje Y**. En cuanto al punto donde se cortan, se conoce como el **punto de origen O**.\n",
    "\n",
    "<img src=\"https://docs.hektorprofe.net/cdn/ejemplos_edv/python/eje.jpg\" width=\"350\" />\n",
    "\n",
    "Es importante remarcar que el plano se divide en 4 cuadrantes:\n",
    "\n",
    "<img src=\"https://docs.hektorprofe.net/cdn/ejemplos_edv/python/cuadrante.jpg\" width=\"350\" />\n",
    "\n",
    "## Puntos y coordenadas\n",
    "\n",
    "El objetivo de todo esto es describir la posición de **puntos** sobre el plano en forma de **coordenadas**, que se forman asociando el valor del eje de las X (horizontal) con el valor del eje Y (vertical).\n",
    "\n",
    "La representación de un punto es sencilla: **P(X,Y)** dónde X y la Y son la distancia horizontal (izquierda o derecha) y vertical (arriba o abajo) respectivamente, utilizando como referencia el punto de origen (0,0), justo en el centro del plano.\n",
    "\n",
    "<img src=\"https://docs.hektorprofe.net/cdn/ejemplos_edv/python/Cartesian-coordinate-system.svg.png\" width=\"300\" />\n",
    "\n",
    "\n",
    "## Vectores en el plano\n",
    "\n",
    "Finalmente, un vector en el plano hace referencia a un segmento orientado, generado a partir de dos puntos distintos. \n",
    "\n",
    "A efectos prácticos no deja de ser una línea formada desde un punto inicial en dirección a otro punto final, por lo que se entiende que un vector tiene longitud y dirección/sentido.\n",
    "\n",
    "\n",
    "<img src=\"https://docs.hektorprofe.net/cdn/ejemplos_edv/python/vector3.png\" width=\"300\" />\n",
    "\n",
    "En esta figura, podemos observar dos puntos A y B que podríamos definir de la siguiente forma:\n",
    "* **A(x1, y1)** => **A(2, 3)**\n",
    "* **B(x2, y2)** => **B(5, 5)**\n",
    "\n",
    "Y el vector se representaría como la diferencia entre las coordendas del segundo punto respecto al primero (el segundo menos el primero):\n",
    "* **AB = (x2-x1, y2-y1)** => **(5-2, 5-3)** => **(3,2)** \n",
    "\n",
    "Lo que en definitiva no deja de ser: 3 a la derecha y 2 arriba.\n",
    "\n",
    "Y con esto finalizamos este mini repaso."
   ]
  },
  {
   "cell_type": "markdown",
   "metadata": {},
   "source": [
    "# El ejercicio\n",
    "\n",
    "#### Preparación\n",
    "\n",
    "* Crea una clase llamada **Punto** con sus dos coordenadas X e Y.\n",
    "* Añade un método **constructor** para crear puntos fácilmente. Si no se reciben una coordenada, su valor será cero.\n",
    "* Sobreescribe el método **string**, para que al imprimir por pantalla un punto aparezca en formato (X,Y)\n",
    "* Añade un método llamado **cuadrante** que indique a qué cuadrante pertenece el punto, o si es el origen.\n",
    "* Añade un método llamado **vector**, que tome otro punto y calcule el vector resultante entre los dos puntos.\n",
    "* (Optativo) Añade un método llamado **distancia**, que tome otro punto y calcule la distancia entre los dos puntos y la muestre por pantalla. La fórmula es la siguiente:\n",
    "\n",
    "<img src=\"https://docs.hektorprofe.net/cdn/ejemplos_edv/python/distancia.png\" width=\"250\" />\n",
    "\n",
    "*Nota: La función raíz cuadrada en Python sqrt() se debe importar del módulo math y utilizarla de la siguiente forma:*\n",
    "```python\n",
    "import math\n",
    "math.sqrt(9)\n",
    "> 3.0\n",
    "```\n",
    "\n",
    "* Crea una clase llamada **Rectangulo** con dos puntos (inicial y final) que formarán la diagonal del rectángulo.\n",
    "* Añade un método **constructor** para crear ambos puntos fácilmente, si no se envían se crearán dos puntos en el origen por defecto.\n",
    "* Añade al rectángulo un método llamado **base** que muestre la base.\n",
    "* Añade al rectángulo un método llamado **altura** que muestre la altura.\n",
    "* Añade al rectángulo un método llamado **area** que muestre el area.\n",
    "\n",
    "*Puedes identificar fácilmente estos valores si intentas dibujar el cuadrado a partir de su  diagonal. Si andas perdido, prueba de dibujarlo en un papel, ¡seguro que lo verás mucho más claro! Además recuerda que puedes utilizar la función **abs()** para saber el valor absolute de un número.*\n",
    "\n",
    "#### Experimentación\n",
    "* Crea los puntos A(2, 3),  B(5,5), C(-3, -1) y D(0,0) e imprimelos por pantalla.\n",
    "* Consulta a que cuadrante pertenecen el punto A, C y D.\n",
    "* Consulta los vectores AB y BA.\n",
    "* (Optativo) Consulta la distancia entre los puntos 'A y B' y 'B y A'. \n",
    "* (Optativo) Determina cual de los 3 puntos A, B o C, se encuentra más lejos del origen, punto (0,0). \n",
    "* Crea un rectángulo utilizando los puntos A y B.\n",
    "* Consulta la base, altura y área del rectángulo."
   ]
  },
  {
   "cell_type": "code",
   "execution_count": 55,
   "metadata": {},
   "outputs": [],
   "source": [
    "# Completa el ejercicio aquí\n",
    "import math\n",
    "\n",
    "class Punto:\n",
    "    def __init__(self, x = 0, y = 0):\n",
    "        self.x = x\n",
    "        self.y = y\n",
    "        \n",
    "    def __str__(self):\n",
    "        return f\"({self.x}, {self.y})\"\n",
    "    \n",
    "    def cuadrante(self):\n",
    "        if self.x == 0 and self.y == 0:\n",
    "            return \"Origen\"\n",
    "        elif self.x > 0 and self.y > 0:\n",
    "            return \"Cuadrante 1\"\n",
    "        elif self.x < 0 and self.y < 0:\n",
    "            return \"Cuadrante 3\"\n",
    "        elif self.x > 0 and self.y < 0:\n",
    "            return \"Cuadrante 4\"\n",
    "        else:\n",
    "            return \"Cuadrante 2\"\n",
    "        \n",
    "    def vector(self, x1, y1):\n",
    "        xr = x1 - self.x\n",
    "        yr = y1 - self.y\n",
    "        return f\"({xr}, {yr})\"\n",
    "    \n",
    "    # Tambien se puede hacer asi:\n",
    "    def vectorOtro(self, punto):\n",
    "        xr = punto.x - self.x\n",
    "        yr = punto.y - self.y\n",
    "        return f\"({xr}, {yr})\"\n",
    "    \n",
    "    def distancia(self, x1, y1):\n",
    "        a = x1 - self.x\n",
    "        b = y1 - self.y\n",
    "        return math.sqrt(a ** 2 + b ** 2)     "
   ]
  },
  {
   "cell_type": "code",
   "execution_count": 7,
   "metadata": {},
   "outputs": [],
   "source": [
    "punto = Punto(3, 4)"
   ]
  },
  {
   "cell_type": "code",
   "execution_count": 5,
   "metadata": {},
   "outputs": [
    {
     "data": {
      "text/plain": [
       "'(3, 4)'"
      ]
     },
     "execution_count": 5,
     "metadata": {},
     "output_type": "execute_result"
    }
   ],
   "source": [
    "str(punto)"
   ]
  },
  {
   "cell_type": "code",
   "execution_count": 8,
   "metadata": {},
   "outputs": [
    {
     "data": {
      "text/plain": [
       "'(4, 5)'"
      ]
     },
     "execution_count": 8,
     "metadata": {},
     "output_type": "execute_result"
    }
   ],
   "source": [
    "punto.vector(7, 9)"
   ]
  },
  {
   "cell_type": "code",
   "execution_count": 10,
   "metadata": {},
   "outputs": [],
   "source": [
    "punto = Punto(2, 2)"
   ]
  },
  {
   "cell_type": "code",
   "execution_count": 52,
   "metadata": {},
   "outputs": [
    {
     "data": {
      "text/plain": [
       "1.4142135623730951"
      ]
     },
     "execution_count": 52,
     "metadata": {},
     "output_type": "execute_result"
    }
   ],
   "source": [
    "punto.distancia(3, 3)"
   ]
  },
  {
   "cell_type": "code",
   "execution_count": 65,
   "metadata": {},
   "outputs": [],
   "source": [
    "class Rectangulo:\n",
    "    def __init__(self, punto_a = Punto(), punto_b = Punto()):\n",
    "        self.punto_a = punto_a\n",
    "        self.punto_b = punto_b\n",
    "        \n",
    "    def base(self):\n",
    "        return abs(self.punto_b.x - self.punto_a.x)\n",
    "    \n",
    "    def altura(self):\n",
    "        return abs(self.punto_b.y - self.punto_a.y)\n",
    "    \n",
    "    def area(self):\n",
    "        return self.base() * self.altura()"
   ]
  },
  {
   "cell_type": "code",
   "execution_count": 17,
   "metadata": {},
   "outputs": [],
   "source": [
    "punto_a = Punto(1, 5)"
   ]
  },
  {
   "cell_type": "code",
   "execution_count": 18,
   "metadata": {},
   "outputs": [],
   "source": [
    "punto_b = Punto(5, 1)"
   ]
  },
  {
   "cell_type": "code",
   "execution_count": 66,
   "metadata": {},
   "outputs": [],
   "source": [
    "rec = Rectangulo(punto_a, punto_b)"
   ]
  },
  {
   "cell_type": "code",
   "execution_count": 62,
   "metadata": {},
   "outputs": [
    {
     "data": {
      "text/plain": [
       "4"
      ]
     },
     "execution_count": 62,
     "metadata": {},
     "output_type": "execute_result"
    }
   ],
   "source": [
    "rec.base()"
   ]
  },
  {
   "cell_type": "code",
   "execution_count": 63,
   "metadata": {},
   "outputs": [
    {
     "data": {
      "text/plain": [
       "4"
      ]
     },
     "execution_count": 63,
     "metadata": {},
     "output_type": "execute_result"
    }
   ],
   "source": [
    "rec.altura()"
   ]
  },
  {
   "cell_type": "code",
   "execution_count": 67,
   "metadata": {},
   "outputs": [
    {
     "data": {
      "text/plain": [
       "16"
      ]
     },
     "execution_count": 67,
     "metadata": {},
     "output_type": "execute_result"
    }
   ],
   "source": [
    "rec.area()"
   ]
  },
  {
   "cell_type": "code",
   "execution_count": 56,
   "metadata": {},
   "outputs": [],
   "source": [
    "a = Punto(2, 3)\n",
    "b = Punto(5, 5)\n",
    "c = Punto(-3, -1)\n",
    "d = Punto(0, 0)"
   ]
  },
  {
   "cell_type": "code",
   "execution_count": 37,
   "metadata": {},
   "outputs": [
    {
     "data": {
      "text/plain": [
       "'Cuadrante 1'"
      ]
     },
     "execution_count": 37,
     "metadata": {},
     "output_type": "execute_result"
    }
   ],
   "source": [
    "a.cuadrante()"
   ]
  },
  {
   "cell_type": "code",
   "execution_count": 38,
   "metadata": {},
   "outputs": [
    {
     "data": {
      "text/plain": [
       "'Cuadrante 1'"
      ]
     },
     "execution_count": 38,
     "metadata": {},
     "output_type": "execute_result"
    }
   ],
   "source": [
    "b.cuadrante()"
   ]
  },
  {
   "cell_type": "code",
   "execution_count": 39,
   "metadata": {},
   "outputs": [
    {
     "data": {
      "text/plain": [
       "'Cuadrante 3'"
      ]
     },
     "execution_count": 39,
     "metadata": {},
     "output_type": "execute_result"
    }
   ],
   "source": [
    "c.cuadrante()"
   ]
  },
  {
   "cell_type": "code",
   "execution_count": 40,
   "metadata": {},
   "outputs": [
    {
     "data": {
      "text/plain": [
       "'Origen'"
      ]
     },
     "execution_count": 40,
     "metadata": {},
     "output_type": "execute_result"
    }
   ],
   "source": [
    "d.cuadrante()"
   ]
  },
  {
   "cell_type": "code",
   "execution_count": 42,
   "metadata": {},
   "outputs": [
    {
     "data": {
      "text/plain": [
       "'(3, 2)'"
      ]
     },
     "execution_count": 42,
     "metadata": {},
     "output_type": "execute_result"
    }
   ],
   "source": [
    "a.vector(b.x, b.y)"
   ]
  },
  {
   "cell_type": "code",
   "execution_count": 43,
   "metadata": {},
   "outputs": [
    {
     "data": {
      "text/plain": [
       "'(-3, -2)'"
      ]
     },
     "execution_count": 43,
     "metadata": {},
     "output_type": "execute_result"
    }
   ],
   "source": [
    "b.vector(a.x, a.y)"
   ]
  },
  {
   "cell_type": "code",
   "execution_count": 44,
   "metadata": {},
   "outputs": [
    {
     "data": {
      "text/plain": [
       "3.605551275463989"
      ]
     },
     "execution_count": 44,
     "metadata": {},
     "output_type": "execute_result"
    }
   ],
   "source": [
    "a.distancia(b.x, b.y)"
   ]
  },
  {
   "cell_type": "code",
   "execution_count": 45,
   "metadata": {},
   "outputs": [
    {
     "data": {
      "text/plain": [
       "3.605551275463989"
      ]
     },
     "execution_count": 45,
     "metadata": {},
     "output_type": "execute_result"
    }
   ],
   "source": [
    "b.distancia(a.x, a.y)"
   ]
  },
  {
   "cell_type": "code",
   "execution_count": 46,
   "metadata": {},
   "outputs": [
    {
     "data": {
      "text/plain": [
       "3.605551275463989"
      ]
     },
     "execution_count": 46,
     "metadata": {},
     "output_type": "execute_result"
    }
   ],
   "source": [
    "a.distancia(0, 0)"
   ]
  },
  {
   "cell_type": "code",
   "execution_count": 47,
   "metadata": {},
   "outputs": [
    {
     "data": {
      "text/plain": [
       "7.0710678118654755"
      ]
     },
     "execution_count": 47,
     "metadata": {},
     "output_type": "execute_result"
    }
   ],
   "source": [
    "b.distancia(0, 0)"
   ]
  },
  {
   "cell_type": "code",
   "execution_count": 48,
   "metadata": {},
   "outputs": [
    {
     "data": {
      "text/plain": [
       "3.1622776601683795"
      ]
     },
     "execution_count": 48,
     "metadata": {},
     "output_type": "execute_result"
    }
   ],
   "source": [
    "c.distancia(0, 0)"
   ]
  },
  {
   "cell_type": "code",
   "execution_count": 57,
   "metadata": {},
   "outputs": [
    {
     "data": {
      "text/plain": [
       "'(3, 2)'"
      ]
     },
     "execution_count": 57,
     "metadata": {},
     "output_type": "execute_result"
    }
   ],
   "source": [
    "a.vectorOtro(b)"
   ]
  },
  {
   "cell_type": "code",
   "execution_count": null,
   "metadata": {},
   "outputs": [],
   "source": []
  }
 ],
 "metadata": {
  "anaconda-cloud": {},
  "kernelspec": {
   "display_name": "Python 3 (ipykernel)",
   "language": "python",
   "name": "python3"
  },
  "language_info": {
   "codemirror_mode": {
    "name": "ipython",
    "version": 3
   },
   "file_extension": ".py",
   "mimetype": "text/x-python",
   "name": "python",
   "nbconvert_exporter": "python",
   "pygments_lexer": "ipython3",
   "version": "3.11.1"
  }
 },
 "nbformat": 4,
 "nbformat_minor": 1
}
