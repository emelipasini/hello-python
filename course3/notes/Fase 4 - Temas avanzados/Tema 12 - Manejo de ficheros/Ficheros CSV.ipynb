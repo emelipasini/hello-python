{
 "cells": [
  {
   "cell_type": "markdown",
   "id": "fd996576",
   "metadata": {},
   "source": [
    "# Ficheros CSV\n",
    "\n",
    "\n",
    "**Valores separados por comas (comma-separated values)**\n",
    "\n",
    "Documentacion: https://docs.python.org/3/library/csv.html"
   ]
  },
  {
   "cell_type": "code",
   "execution_count": 1,
   "id": "0f9ea3ad",
   "metadata": {},
   "outputs": [],
   "source": [
    "import csv"
   ]
  },
  {
   "cell_type": "code",
   "execution_count": 4,
   "id": "eeede0a0",
   "metadata": {},
   "outputs": [],
   "source": [
    "contactos = [\n",
    "    (\"Manuel\", \"Developer\", \"man@gmail.com\"),\n",
    "    (\"Lorena\", \"Project Manager\", \"lor@gmail.com\"),\n",
    "    (\"Javier\", \"Analista\", \"jav@gamil.com\"),\n",
    "    (\"Marta\", \"Developer\", \"mar@gmail.com\")\n",
    "]"
   ]
  },
  {
   "cell_type": "code",
   "execution_count": 5,
   "id": "0f81d6ae",
   "metadata": {},
   "outputs": [],
   "source": [
    "# El with te permite abrir el archivo dentro de un bloque de codigo\n",
    "# y no es necesario cerrarlo"
   ]
  },
  {
   "cell_type": "code",
   "execution_count": 6,
   "id": "2b83b8a9",
   "metadata": {},
   "outputs": [],
   "source": [
    "with open(\"contactos.csv\", \"w\", newline=\"\\n\") as csvfile:\n",
    "    writer = csv.writer(csvfile, delimiter=\",\")\n",
    "    for contacto in contactos:\n",
    "        writer.writerow(contacto)"
   ]
  },
  {
   "cell_type": "code",
   "execution_count": 7,
   "id": "fbe76901",
   "metadata": {},
   "outputs": [
    {
     "name": "stdout",
     "output_type": "stream",
     "text": [
      "Manuel Developer man@gmail.com\n",
      "Lorena Project Manager lor@gmail.com\n",
      "Javier Analista jav@gamil.com\n",
      "Marta Developer mar@gmail.com\n"
     ]
    }
   ],
   "source": [
    "with open(\"contactos.csv\", newline=\"\\n\") as csvfile:\n",
    "    reader = csv.reader(csvfile, delimiter=\",\")\n",
    "    for nombre, empleo, email in reader:\n",
    "        print(nombre, empleo, email)"
   ]
  },
  {
   "cell_type": "code",
   "execution_count": 8,
   "id": "fe581248",
   "metadata": {},
   "outputs": [],
   "source": [
    "# Tambien se pueden escribir en el archivo como un diccionario\n",
    "# y que cada columna tenga su nombre"
   ]
  },
  {
   "cell_type": "code",
   "execution_count": 9,
   "id": "db04b192",
   "metadata": {},
   "outputs": [],
   "source": [
    "with open(\"contactos-dict.csv\", \"w\", newline=\"\\n\") as csvfile:\n",
    "    campos = [\"nombre\", \"empleo\", \"email\"]\n",
    "    writer = csv.DictWriter(csvfile, fieldnames=campos)\n",
    "    writer.writeheader()\n",
    "    for nombre, empleo, email in contactos:\n",
    "        writer.writerow({\n",
    "            \"nombre\": nombre, \"empleo\": empleo, \"email\": email\n",
    "        })"
   ]
  },
  {
   "cell_type": "code",
   "execution_count": 10,
   "id": "4e6ca85f",
   "metadata": {},
   "outputs": [
    {
     "name": "stdout",
     "output_type": "stream",
     "text": [
      "Manuel Developer man@gmail.com\n",
      "Lorena Project Manager lor@gmail.com\n",
      "Javier Analista jav@gamil.com\n",
      "Marta Developer mar@gmail.com\n"
     ]
    }
   ],
   "source": [
    "with open(\"contactos-dict.csv\", newline=\"\\n\") as csvfile:\n",
    "    reader = csv.DictReader(csvfile)\n",
    "    for contacto in reader:\n",
    "        print(contacto[\"nombre\"], contacto[\"empleo\"], contacto[\"email\"])"
   ]
  },
  {
   "cell_type": "code",
   "execution_count": null,
   "id": "4c0f74b6",
   "metadata": {},
   "outputs": [],
   "source": []
  }
 ],
 "metadata": {
  "kernelspec": {
   "display_name": "Python 3 (ipykernel)",
   "language": "python",
   "name": "python3"
  },
  "language_info": {
   "codemirror_mode": {
    "name": "ipython",
    "version": 3
   },
   "file_extension": ".py",
   "mimetype": "text/x-python",
   "name": "python",
   "nbconvert_exporter": "python",
   "pygments_lexer": "ipython3",
   "version": "3.11.1"
  }
 },
 "nbformat": 4,
 "nbformat_minor": 5
}
