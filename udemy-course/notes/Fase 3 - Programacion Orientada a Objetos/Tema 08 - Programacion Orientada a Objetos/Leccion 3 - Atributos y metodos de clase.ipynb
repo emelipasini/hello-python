{
 "cells": [
  {
   "cell_type": "code",
   "execution_count": 1,
   "metadata": {},
   "outputs": [],
   "source": [
    "class Masita:\n",
    "    pass"
   ]
  },
  {
   "cell_type": "code",
   "execution_count": 2,
   "metadata": {},
   "outputs": [],
   "source": [
    "masita = Masita()"
   ]
  },
  {
   "cell_type": "code",
   "execution_count": 4,
   "metadata": {},
   "outputs": [],
   "source": [
    "masita.sabor = \"Salado\"\n",
    "masita.color = \"Marron\""
   ]
  },
  {
   "cell_type": "code",
   "execution_count": 5,
   "metadata": {},
   "outputs": [
    {
     "name": "stdout",
     "output_type": "stream",
     "text": [
      "Salado\n"
     ]
    }
   ],
   "source": [
    "print(masita.sabor)"
   ]
  },
  {
   "cell_type": "code",
   "execution_count": 6,
   "metadata": {},
   "outputs": [
    {
     "data": {
      "text/plain": [
       "False"
      ]
     },
     "execution_count": 6,
     "metadata": {},
     "output_type": "execute_result"
    }
   ],
   "source": [
    "class Masita:\n",
    "    chocolate = False\n",
    "    \n",
    "g = Masita()\n",
    "g.chocolate"
   ]
  },
  {
   "cell_type": "code",
   "execution_count": 7,
   "metadata": {},
   "outputs": [
    {
     "data": {
      "text/plain": [
       "True"
      ]
     },
     "execution_count": 7,
     "metadata": {},
     "output_type": "execute_result"
    }
   ],
   "source": [
    "g.chocolate = True\n",
    "g.chocolate"
   ]
  },
  {
   "cell_type": "code",
   "execution_count": 14,
   "metadata": {},
   "outputs": [
    {
     "name": "stdout",
     "output_type": "stream",
     "text": [
      "Se creo una masita\n",
      "Tengo chocolate! :D\n"
     ]
    }
   ],
   "source": [
    "class Masita():\n",
    "    chocolate = False\n",
    "    \n",
    "    def __init__(self):\n",
    "        print(\"Se creo una masita\")\n",
    "        \n",
    "    def chocolatear(self):\n",
    "        # Si no pones el self delante de chocolate se refiere al chocolate de\n",
    "        # la clase que esta en False\n",
    "        self.chocolate = True\n",
    "        \n",
    "    def tiene_chocolate(self):\n",
    "        if self.chocolate:\n",
    "            print(\"Tengo chocolate! :D\")\n",
    "        else:\n",
    "            print(\"No tengo chocolare :(\")\n",
    "    \n",
    "g = Masita()\n",
    "g.chocolatear()\n",
    "g.tiene_chocolate()"
   ]
  },
  {
   "cell_type": "code",
   "execution_count": 15,
   "metadata": {},
   "outputs": [
    {
     "name": "stdout",
     "output_type": "stream",
     "text": [
      "Se creo una masita Dulce Redonda\n",
      "Tengo chocolate! :D\n"
     ]
    }
   ],
   "source": [
    "class Masita():\n",
    "    chocolate = False\n",
    "    \n",
    "    # Si le pones el None no es obligatorio pasarle el parametro\n",
    "    def __init__(self, sabor=None, forma=None):\n",
    "        self.sabor = sabor\n",
    "        self.forma = forma\n",
    "        print(f\"Se creo una masita {sabor} {forma}\")\n",
    "        \n",
    "    def chocolatear(self):\n",
    "        self.chocolate = True\n",
    "        \n",
    "    def tiene_chocolate(self):\n",
    "        if self.chocolate:\n",
    "            print(\"Tengo chocolate! :D\")\n",
    "        else:\n",
    "            print(\"No tengo chocolare :(\")\n",
    "    \n",
    "g = Masita(\"Dulce\", \"Redonda\")\n",
    "g.chocolatear()\n",
    "g.tiene_chocolate()"
   ]
  },
  {
   "cell_type": "code",
   "execution_count": null,
   "metadata": {},
   "outputs": [],
   "source": []
  }
 ],
 "metadata": {
  "kernelspec": {
   "display_name": "Python 3 (ipykernel)",
   "language": "python",
   "name": "python3"
  },
  "language_info": {
   "codemirror_mode": {
    "name": "ipython",
    "version": 3
   },
   "file_extension": ".py",
   "mimetype": "text/x-python",
   "name": "python",
   "nbconvert_exporter": "python",
   "pygments_lexer": "ipython3",
   "version": "3.11.1"
  }
 },
 "nbformat": 4,
 "nbformat_minor": 1
}
