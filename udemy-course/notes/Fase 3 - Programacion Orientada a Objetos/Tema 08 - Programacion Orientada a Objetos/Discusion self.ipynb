{
 "cells": [
  {
   "cell_type": "code",
   "execution_count": 1,
   "id": "13c2e7da",
   "metadata": {},
   "outputs": [],
   "source": [
    "class A:\n",
    "    def __init__():\n",
    "        print(\"Prueba\")"
   ]
  },
  {
   "cell_type": "code",
   "execution_count": 2,
   "id": "ead281bb",
   "metadata": {},
   "outputs": [
    {
     "ename": "TypeError",
     "evalue": "A.__init__() takes 0 positional arguments but 1 was given",
     "output_type": "error",
     "traceback": [
      "\u001b[1;31m---------------------------------------------------------------------------\u001b[0m",
      "\u001b[1;31mTypeError\u001b[0m                                 Traceback (most recent call last)",
      "Cell \u001b[1;32mIn[2], line 1\u001b[0m\n\u001b[1;32m----> 1\u001b[0m a \u001b[38;5;241m=\u001b[39m \u001b[43mA\u001b[49m\u001b[43m(\u001b[49m\u001b[43m)\u001b[49m\n",
      "\u001b[1;31mTypeError\u001b[0m: A.__init__() takes 0 positional arguments but 1 was given"
     ]
    }
   ],
   "source": [
    "a = A()"
   ]
  },
  {
   "cell_type": "code",
   "execution_count": 3,
   "id": "a8fd0419",
   "metadata": {},
   "outputs": [],
   "source": [
    "class A:\n",
    "    def __init__(argumento):\n",
    "        print(argumento)"
   ]
  },
  {
   "cell_type": "code",
   "execution_count": 4,
   "id": "a06a0f3a",
   "metadata": {},
   "outputs": [
    {
     "name": "stdout",
     "output_type": "stream",
     "text": [
      "<__main__.A object at 0x00000216ED5BC190>\n"
     ]
    }
   ],
   "source": [
    "a = A()"
   ]
  },
  {
   "cell_type": "code",
   "execution_count": 5,
   "id": "c27c0a44",
   "metadata": {},
   "outputs": [],
   "source": [
    "# Self hace referencia a la propia instancia, imprime la ubicacion\n",
    "# en memoria, y es necesaria para que la clase funcione"
   ]
  },
  {
   "cell_type": "code",
   "execution_count": 6,
   "id": "cb5d2745",
   "metadata": {},
   "outputs": [
    {
     "name": "stdout",
     "output_type": "stream",
     "text": [
      "The Zen of Python, by Tim Peters\n",
      "\n",
      "Beautiful is better than ugly.\n",
      "Explicit is better than implicit.\n",
      "Simple is better than complex.\n",
      "Complex is better than complicated.\n",
      "Flat is better than nested.\n",
      "Sparse is better than dense.\n",
      "Readability counts.\n",
      "Special cases aren't special enough to break the rules.\n",
      "Although practicality beats purity.\n",
      "Errors should never pass silently.\n",
      "Unless explicitly silenced.\n",
      "In the face of ambiguity, refuse the temptation to guess.\n",
      "There should be one-- and preferably only one --obvious way to do it.\n",
      "Although that way may not be obvious at first unless you're Dutch.\n",
      "Now is better than never.\n",
      "Although never is often better than *right* now.\n",
      "If the implementation is hard to explain, it's a bad idea.\n",
      "If the implementation is easy to explain, it may be a good idea.\n",
      "Namespaces are one honking great idea -- let's do more of those!\n"
     ]
    }
   ],
   "source": [
    "import this"
   ]
  },
  {
   "cell_type": "code",
   "execution_count": 12,
   "id": "a76909df",
   "metadata": {},
   "outputs": [],
   "source": [
    "# Metodos estaticos\n",
    "\n",
    "class Libreria:\n",
    "    def saludar():\n",
    "        print(\"Hola\")\n",
    "        \n",
    "    def despedirse():\n",
    "        print(\"Adios\")"
   ]
  },
  {
   "cell_type": "code",
   "execution_count": 8,
   "id": "ae072314",
   "metadata": {},
   "outputs": [
    {
     "name": "stdout",
     "output_type": "stream",
     "text": [
      "Hola\n"
     ]
    }
   ],
   "source": [
    "Libreria.saludar()"
   ]
  },
  {
   "cell_type": "code",
   "execution_count": 9,
   "id": "b6f63ccb",
   "metadata": {},
   "outputs": [
    {
     "name": "stdout",
     "output_type": "stream",
     "text": [
      "Adios\n"
     ]
    }
   ],
   "source": [
    "Libreria.despedirse()"
   ]
  },
  {
   "cell_type": "code",
   "execution_count": 10,
   "id": "678ca8c1",
   "metadata": {},
   "outputs": [],
   "source": [
    "libreria = Libreria()"
   ]
  },
  {
   "cell_type": "code",
   "execution_count": 11,
   "id": "affe9a37",
   "metadata": {},
   "outputs": [
    {
     "ename": "TypeError",
     "evalue": "Libreria.saludar() takes 0 positional arguments but 1 was given",
     "output_type": "error",
     "traceback": [
      "\u001b[1;31m---------------------------------------------------------------------------\u001b[0m",
      "\u001b[1;31mTypeError\u001b[0m                                 Traceback (most recent call last)",
      "Cell \u001b[1;32mIn[11], line 1\u001b[0m\n\u001b[1;32m----> 1\u001b[0m \u001b[43mlibreria\u001b[49m\u001b[38;5;241;43m.\u001b[39;49m\u001b[43msaludar\u001b[49m\u001b[43m(\u001b[49m\u001b[43m)\u001b[49m\n",
      "\u001b[1;31mTypeError\u001b[0m: Libreria.saludar() takes 0 positional arguments but 1 was given"
     ]
    }
   ],
   "source": [
    "libreria.saludar()"
   ]
  },
  {
   "cell_type": "code",
   "execution_count": 13,
   "id": "f19392a1",
   "metadata": {},
   "outputs": [
    {
     "name": "stdout",
     "output_type": "stream",
     "text": [
      "Instancias creadas:  1\n",
      "Instancias creadas:  2\n",
      "Instancias creadas:  3\n",
      "Instancias creadas:  4\n",
      "Instancias creadas:  5\n",
      "Instancias creadas:  6\n",
      "Instancias creadas:  7\n",
      "Instancias creadas:  8\n",
      "Instancias creadas:  9\n",
      "Instancias creadas:  10\n"
     ]
    }
   ],
   "source": [
    "# Atributo estatico\n",
    "\n",
    "class Test:\n",
    "    contador = 0\n",
    "    \n",
    "    def __init__(self):\n",
    "        Test.contador += 1\n",
    "        print(\"Instancias creadas: \", Test.contador)\n",
    "        \n",
    "for i in range(10):\n",
    "    Test()"
   ]
  },
  {
   "cell_type": "code",
   "execution_count": 14,
   "id": "4f335004",
   "metadata": {},
   "outputs": [
    {
     "data": {
      "text/plain": [
       "10"
      ]
     },
     "execution_count": 14,
     "metadata": {},
     "output_type": "execute_result"
    }
   ],
   "source": [
    "Test.contador"
   ]
  },
  {
   "cell_type": "code",
   "execution_count": null,
   "id": "cc6b2185",
   "metadata": {},
   "outputs": [],
   "source": []
  }
 ],
 "metadata": {
  "kernelspec": {
   "display_name": "Python 3 (ipykernel)",
   "language": "python",
   "name": "python3"
  },
  "language_info": {
   "codemirror_mode": {
    "name": "ipython",
    "version": 3
   },
   "file_extension": ".py",
   "mimetype": "text/x-python",
   "name": "python",
   "nbconvert_exporter": "python",
   "pygments_lexer": "ipython3",
   "version": "3.11.1"
  }
 },
 "nbformat": 4,
 "nbformat_minor": 5
}
