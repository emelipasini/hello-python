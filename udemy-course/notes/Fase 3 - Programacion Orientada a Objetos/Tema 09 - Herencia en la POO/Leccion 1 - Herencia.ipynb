{
 "cells": [
  {
   "cell_type": "code",
   "execution_count": 1,
   "metadata": {},
   "outputs": [],
   "source": [
    "class Producto:\n",
    "    def __init__(self, referencia, tipo, nombre, pvp, descripcion, productor=None, distribuidor=None, isbn=None, autor=None):\n",
    "        self.referencia = referencia\n",
    "        self.tipo = tipo\n",
    "        self.nombre = nombre\n",
    "        self.pvp = pvp\n",
    "        self.descripcion = descripcion\n",
    "        self.productor = productor\n",
    "        self.distribuidor = distribuidor\n",
    "        self.isbn = isbn\n",
    "        self.autor = autor"
   ]
  },
  {
   "cell_type": "code",
   "execution_count": 2,
   "metadata": {},
   "outputs": [],
   "source": [
    "adorno = Producto(\"000A\", \"Adorno\", \"Vaso adornado\", 15, \"Vaso de porcelana con dibujos\")"
   ]
  },
  {
   "cell_type": "code",
   "execution_count": 3,
   "metadata": {},
   "outputs": [
    {
     "data": {
      "text/plain": [
       "<__main__.Producto at 0x26c6ceac450>"
      ]
     },
     "execution_count": 3,
     "metadata": {},
     "output_type": "execute_result"
    }
   ],
   "source": [
    "adorno"
   ]
  },
  {
   "cell_type": "code",
   "execution_count": 4,
   "metadata": {},
   "outputs": [
    {
     "data": {
      "text/plain": [
       "'Adorno'"
      ]
     },
     "execution_count": 4,
     "metadata": {},
     "output_type": "execute_result"
    }
   ],
   "source": [
    "adorno.tipo"
   ]
  },
  {
   "cell_type": "code",
   "execution_count": 8,
   "metadata": {},
   "outputs": [],
   "source": [
    "class Producto:\n",
    "    def __init__(self, referencia, nombre, pvp, descripcion):\n",
    "        self.referencia = referencia\n",
    "        self.nombre = nombre\n",
    "        self.pvp = pvp\n",
    "        self.descripcion = descripcion\n",
    "        \n",
    "    def __str__(self):\n",
    "        return f\"\"\"\\\n",
    "        REFERENCIA\\t{self.referencia}\n",
    "        NOMBRE\\t\\t{self.nombre}\n",
    "        PVP\\t\\t{self.pvp}\n",
    "        DESCRIPCION\\t{self.descripcion}\"\"\""
   ]
  },
  {
   "cell_type": "code",
   "execution_count": 9,
   "metadata": {},
   "outputs": [],
   "source": [
    "class Adorno(Producto):\n",
    "    pass"
   ]
  },
  {
   "cell_type": "code",
   "execution_count": 10,
   "metadata": {},
   "outputs": [],
   "source": [
    "a = Adorno(2034, \"Vaso adornado\", 15, \"Vaso de porcelana con dibujos de arboles\")"
   ]
  },
  {
   "cell_type": "code",
   "execution_count": 11,
   "metadata": {},
   "outputs": [
    {
     "name": "stdout",
     "output_type": "stream",
     "text": [
      "        REFERENCIA\t2034\n",
      "        NOMBRE\t\tVaso adornado\n",
      "        PVP\t\t15\n",
      "        DESCRIPCION\tVaso de porcelana con dibujos de arboles\n"
     ]
    }
   ],
   "source": [
    "print(a)"
   ]
  },
  {
   "cell_type": "code",
   "execution_count": 14,
   "metadata": {},
   "outputs": [],
   "source": [
    "class Alimento(Producto):\n",
    "    productor = \"\"\n",
    "    distribuidor = \"\"\n",
    "    \n",
    "    def __str__(self):\n",
    "        return f\"\"\"\\\n",
    "        REFERENCIA\\t{self.referencia}\n",
    "        NOMBRE\\t\\t{self.nombre}\n",
    "        PVP\\t\\t{self.pvp}\n",
    "        DESCRIPCION\\t{self.descripcion}\n",
    "        PRODUCTOR\\t{self.productor}\n",
    "        DISTRIBUIDOR\\t{self.distribuidor}\"\"\""
   ]
  },
  {
   "cell_type": "code",
   "execution_count": 15,
   "metadata": {},
   "outputs": [],
   "source": [
    "al = Alimento(2035, \"Botella de aceite de oliva\", 5, \"250 ml\")\n",
    "al.productor = \"La Aceitera SRL\"\n",
    "al.distribuidor = \"Distribuiciones SA\""
   ]
  },
  {
   "cell_type": "code",
   "execution_count": 16,
   "metadata": {},
   "outputs": [
    {
     "name": "stdout",
     "output_type": "stream",
     "text": [
      "        REFERENCIA\t2035\n",
      "        NOMBRE\t\tBotella de aceite de oliva\n",
      "        PVP\t\t5\n",
      "        DESCRIPCION\t250 ml\n",
      "        PRODUCTOR\tLa Aceitera SRL\n",
      "        DISTRIBUIDOR\tDistribuiciones SA\n"
     ]
    }
   ],
   "source": [
    "print(al)"
   ]
  },
  {
   "cell_type": "code",
   "execution_count": 21,
   "metadata": {},
   "outputs": [],
   "source": [
    "class Libro(Producto):\n",
    "    isbn = \"\"\n",
    "    autor = \"\"\n",
    "    \n",
    "    def __str__(self):\n",
    "        return f\"\"\"\\\n",
    "        REFERENCIA\\t{self.referencia}\n",
    "        NOMBRE\\t\\t{self.nombre}\n",
    "        PVP\\t\\t{self.pvp}\n",
    "        DESCRIPCION\\t{self.descripcion}\n",
    "        ISBN\\t\\t{self.isbn}\n",
    "        AUTOR\\t\\t{self.autor}\"\"\""
   ]
  },
  {
   "cell_type": "code",
   "execution_count": 23,
   "metadata": {},
   "outputs": [],
   "source": [
    "li = Libro(2036, \"Cocina mediterranea\", 9, \"Recetas sanas y buenas\")\n",
    "li.isbn = \"0-123456-78-9\"\n",
    "li.autor = \"Juana Petrona\""
   ]
  },
  {
   "cell_type": "code",
   "execution_count": 24,
   "metadata": {},
   "outputs": [
    {
     "name": "stdout",
     "output_type": "stream",
     "text": [
      "        REFERENCIA\t2036\n",
      "        NOMBRE\t\tCocina mediterranea\n",
      "        PVP\t\t9\n",
      "        DESCRIPCION\tRecetas sanas y buenas\n",
      "        ISBN\t\t0-123456-78-9\n",
      "        AUTOR\t\tJuana Petrona\n"
     ]
    }
   ],
   "source": [
    "print(li)"
   ]
  },
  {
   "cell_type": "code",
   "execution_count": 49,
   "metadata": {},
   "outputs": [],
   "source": [
    "class Vajilla(Producto):\n",
    "    def __init__(self, referencia, nombre, pvp, descripcion, material, color):\n",
    "        self.material = material\n",
    "        self.color = color\n",
    "        \n",
    "        Producto.__init__(self, referencia, nombre, pvp, descripcion)\n",
    "        # super().__init__(self, referencia, nombre, pvp, descripcion)\n",
    "        \n",
    "    def __str__(self):\n",
    "        desc = Producto.__str__(self)\n",
    "        return desc + f\"\"\"\n",
    "        MATERIAL\\t{self.material}\n",
    "        COLOR\\t\\t{self.color}\"\"\""
   ]
  },
  {
   "cell_type": "code",
   "execution_count": 50,
   "metadata": {},
   "outputs": [],
   "source": [
    "va = Vajilla(2037, \"Plato playo\", 17, \"Plato blanco\", \"Porcelana\", \"Blanco\")"
   ]
  },
  {
   "cell_type": "code",
   "execution_count": 51,
   "metadata": {},
   "outputs": [
    {
     "name": "stdout",
     "output_type": "stream",
     "text": [
      "        REFERENCIA\t2037\n",
      "        NOMBRE\t\tPlato playo\n",
      "        PVP\t\t17\n",
      "        DESCRIPCION\tPlato blanco\n",
      "        MATERIAL\tPorcelana\n",
      "        COLOR\t\tBlanco\n"
     ]
    }
   ],
   "source": [
    "print(va)"
   ]
  },
  {
   "cell_type": "code",
   "execution_count": null,
   "metadata": {},
   "outputs": [],
   "source": []
  }
 ],
 "metadata": {
  "kernelspec": {
   "display_name": "Python 3 (ipykernel)",
   "language": "python",
   "name": "python3"
  },
  "language_info": {
   "codemirror_mode": {
    "name": "ipython",
    "version": 3
   },
   "file_extension": ".py",
   "mimetype": "text/x-python",
   "name": "python",
   "nbconvert_exporter": "python",
   "pygments_lexer": "ipython3",
   "version": "3.11.1"
  }
 },
 "nbformat": 4,
 "nbformat_minor": 1
}
