{
 "cells": [
  {
   "cell_type": "markdown",
   "id": "28253711",
   "metadata": {},
   "source": [
    "# Ficheros JSON\n",
    "\n",
    "**JavaScript Object Notation**\n",
    "\n",
    "Documentacion: https://docs.python.org/3/library/json.html"
   ]
  },
  {
   "cell_type": "code",
   "execution_count": 2,
   "id": "56e9979d",
   "metadata": {},
   "outputs": [],
   "source": [
    "import json\n",
    "\n",
    "contactos = [\n",
    "    (\"Manuel\", \"Developer\", \"ma@gmail.com\"),\n",
    "    (\"Lorena\", \"Proyect Manager\", \"lo@gmail.com\")\n",
    "]\n",
    "\n",
    "datos = []\n",
    "\n",
    "for nombre, empleo, email in contactos:\n",
    "    datos.append({\"nombre\":nombre, \"empleo\":empleo, \"email\":email})"
   ]
  },
  {
   "cell_type": "code",
   "execution_count": 3,
   "id": "74495a0e",
   "metadata": {},
   "outputs": [
    {
     "data": {
      "text/plain": [
       "[{'nombre': 'Manuel', 'empleo': 'Developer', 'email': 'ma@gmail.com'},\n",
       " {'nombre': 'Lorena', 'empleo': 'Proyect Manager', 'email': 'lo@gmail.com'}]"
      ]
     },
     "execution_count": 3,
     "metadata": {},
     "output_type": "execute_result"
    }
   ],
   "source": [
    "datos"
   ]
  },
  {
   "cell_type": "code",
   "execution_count": 4,
   "id": "72f63877",
   "metadata": {},
   "outputs": [],
   "source": [
    "with open(\"contactos.json\", \"w\") as jsonfile:\n",
    "    json.dump(datos, jsonfile)"
   ]
  },
  {
   "cell_type": "code",
   "execution_count": 5,
   "id": "38d0d234",
   "metadata": {},
   "outputs": [],
   "source": [
    "recuperado = None"
   ]
  },
  {
   "cell_type": "code",
   "execution_count": 6,
   "id": "ce372986",
   "metadata": {},
   "outputs": [
    {
     "name": "stdout",
     "output_type": "stream",
     "text": [
      "Manuel Developer ma@gmail.com\n",
      "Lorena Proyect Manager lo@gmail.com\n"
     ]
    }
   ],
   "source": [
    "with open(\"contactos.json\") as jsonfile:\n",
    "    recuperado = json.load(jsonfile)\n",
    "    for contacto in recuperado:\n",
    "        print(contacto[\"nombre\"], contacto[\"empleo\"], contacto[\"email\"])"
   ]
  },
  {
   "cell_type": "code",
   "execution_count": null,
   "id": "c57ea35b",
   "metadata": {},
   "outputs": [],
   "source": []
  }
 ],
 "metadata": {
  "kernelspec": {
   "display_name": "Python 3 (ipykernel)",
   "language": "python",
   "name": "python3"
  },
  "language_info": {
   "codemirror_mode": {
    "name": "ipython",
    "version": 3
   },
   "file_extension": ".py",
   "mimetype": "text/x-python",
   "name": "python",
   "nbconvert_exporter": "python",
   "pygments_lexer": "ipython3",
   "version": "3.11.1"
  }
 },
 "nbformat": 4,
 "nbformat_minor": 5
}
