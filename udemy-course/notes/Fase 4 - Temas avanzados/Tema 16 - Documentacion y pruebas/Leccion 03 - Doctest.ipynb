{
 "cells": [
  {
   "cell_type": "markdown",
   "id": "fce8c483",
   "metadata": {},
   "source": [
    "# Doctest\n",
    "\n",
    "Permite combinar pruebas en la documentacion"
   ]
  },
  {
   "cell_type": "code",
   "execution_count": 3,
   "id": "cf083158",
   "metadata": {},
   "outputs": [],
   "source": [
    "def suma(a, b):\n",
    "    \"\"\"\n",
    "    La funcion suma(a, b) recibe dos parametros a y b.\n",
    "    Devuelve la suma de ambos.\n",
    "    \n",
    "    >>> suma(5, 10)\n",
    "    15\n",
    "    \"\"\"\n",
    "    return a + b"
   ]
  },
  {
   "cell_type": "code",
   "execution_count": 4,
   "id": "d2b82136",
   "metadata": {},
   "outputs": [
    {
     "data": {
      "text/plain": [
       "TestResults(failed=0, attempted=1)"
      ]
     },
     "execution_count": 4,
     "metadata": {},
     "output_type": "execute_result"
    }
   ],
   "source": [
    "import doctest\n",
    "\n",
    "doctest.testmod()"
   ]
  },
  {
   "cell_type": "code",
   "execution_count": null,
   "id": "975ce1cb",
   "metadata": {},
   "outputs": [],
   "source": [
    "def doblar(lista):\n",
    "    \"\"\"\n",
    "    Dobla el valor de los elementos de una lista\n",
    "    \"\"\"\n",
    "    return [n * 2]"
   ]
  }
 ],
 "metadata": {
  "kernelspec": {
   "display_name": "Python 3 (ipykernel)",
   "language": "python",
   "name": "python3"
  },
  "language_info": {
   "codemirror_mode": {
    "name": "ipython",
    "version": 3
   },
   "file_extension": ".py",
   "mimetype": "text/x-python",
   "name": "python",
   "nbconvert_exporter": "python",
   "pygments_lexer": "ipython3",
   "version": "3.11.1"
  }
 },
 "nbformat": 4,
 "nbformat_minor": 5
}
