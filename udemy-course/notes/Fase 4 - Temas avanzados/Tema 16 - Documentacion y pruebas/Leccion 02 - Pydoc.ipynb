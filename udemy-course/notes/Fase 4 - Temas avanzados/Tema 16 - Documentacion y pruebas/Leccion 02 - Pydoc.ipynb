{
 "cells": [
  {
   "cell_type": "markdown",
   "id": "83ceab69",
   "metadata": {},
   "source": [
    "# Pydoc\n",
    "\n",
    "Para generar documentacion se usa Pydoc.\n",
    "\n",
    "`pydoc mi_modulo` muestra los docstrings que hayamos creado.\n",
    "\n",
    "`pydoc -w mi_modulo` crea un archivo html con toda la informacion del modulo.\n",
    "\n",
    "`pydoc -w mi_paquete .\\` crea todos los archivos html de todas las cosas que tiene el paquete y se puede navegar dentro.\n",
    "\n",
    "`pydoc -b` abre un servidor en localhost y te da informacion del python que tenes instalado ademas de los paquetes y cosas que tenes en el sistema.\n",
    "\n",
    "`pydoc -p 8000` abre el servidor en el puerto 8000.\n",
    "\n",
    "Existen tambien modulos externos para generar documentacion como `epydoc` y `sphinx` pero no los tratamos en este curso."
   ]
  },
  {
   "cell_type": "code",
   "execution_count": null,
   "id": "049bbf23",
   "metadata": {},
   "outputs": [],
   "source": []
  }
 ],
 "metadata": {
  "kernelspec": {
   "display_name": "Python 3 (ipykernel)",
   "language": "python",
   "name": "python3"
  },
  "language_info": {
   "codemirror_mode": {
    "name": "ipython",
    "version": 3
   },
   "file_extension": ".py",
   "mimetype": "text/x-python",
   "name": "python",
   "nbconvert_exporter": "python",
   "pygments_lexer": "ipython3",
   "version": "3.11.1"
  }
 },
 "nbformat": 4,
 "nbformat_minor": 5
}
