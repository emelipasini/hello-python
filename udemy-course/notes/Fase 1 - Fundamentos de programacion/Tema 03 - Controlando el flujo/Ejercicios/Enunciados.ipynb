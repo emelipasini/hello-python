{
 "cells": [
  {
   "cell_type": "markdown",
   "metadata": {},
   "source": [
    "# Tema 03: Control de flujo (Enunciados)\n",
    "*Nota: Estos ejercicios son optativos para hacer al final de la unidad y están pensados para apoyar tu aprendizaje*."
   ]
  },
  {
   "cell_type": "markdown",
   "metadata": {},
   "source": [
    "**1) Realiza un programa que lea dos números por teclado y permita elegir entre 3 opciones en un menú:** \n",
    "* Mostrar una suma de los dos números\n",
    "* Mostrar una resta de los dos números (el primero menos el segundo)\n",
    "* Mostrar una multiplicación de los dos números\n",
    "* En caso de no introducir una opción válida, el programa informará de que no es correcta."
   ]
  },
  {
   "cell_type": "code",
   "execution_count": 6,
   "metadata": {},
   "outputs": [
    {
     "name": "stdout",
     "output_type": "stream",
     "text": [
      "Introduzca el primer numero: 4\n",
      "Introduzca el segundo numero: 7\n",
      "Elija una operacion:\n",
      "1) Sumar dos numeros\n",
      "2) Restar dos numeros\n",
      "3) Multiplicar dos numeros\n",
      "Elija una opcion: 3\n",
      "La multiplicacion es:  28.0\n"
     ]
    }
   ],
   "source": [
    "# Completa el ejercicio aquí\n",
    "\n",
    "a = float(input(\"Introduzca el primer numero: \"))\n",
    "b = float(input(\"Introduzca el segundo numero: \"))\n",
    "\n",
    "print(\"\"\"Elija una operacion:\n",
    "1) Sumar dos numeros\n",
    "2) Restar dos numeros\n",
    "3) Multiplicar dos numeros\"\"\")\n",
    "\n",
    "opcion = input(\"Elija una opcion: \")\n",
    "\n",
    "if(opcion == \"1\"):\n",
    "    print(\"La suma es: \", a + b)\n",
    "elif(opcion == \"2\"):\n",
    "    print(\"La resta es: \", a - b)\n",
    "elif(opcion == \"3\"):\n",
    "    print(\"La multiplicacion es: \", a * b)\n",
    "else:\n",
    "    print(\"Opcion incorrecta\")\n",
    "    "
   ]
  },
  {
   "cell_type": "markdown",
   "metadata": {},
   "source": [
    "**2) Realiza un programa que lea un número impar por teclado. Si el usuario no introduce un número impar, debe repetise el proceso hasta que lo introduzca correctamente.**"
   ]
  },
  {
   "cell_type": "code",
   "execution_count": 7,
   "metadata": {},
   "outputs": [
    {
     "name": "stdout",
     "output_type": "stream",
     "text": [
      "Introduzca un numero impar: 2\n",
      "Introduzca un numero impar: 6\n",
      "Introduzca un numero impar: 3\n",
      "Ese numero es correcto!\n"
     ]
    }
   ],
   "source": [
    "# Completa el ejercicio aquí\n",
    "n = 0\n",
    "\n",
    "while(n % 2 == 0):\n",
    "    n = int(input(\"Introduzca un numero impar: \"))\n",
    "else:\n",
    "    print(\"Ese numero es correcto!\")"
   ]
  },
  {
   "cell_type": "markdown",
   "metadata": {},
   "source": [
    "**3) Realiza un programa que sume todos los números enteros pares desde el 0 hasta el 100:**\n",
    "\n",
    "*Sugerencia: Puedes utilizar la funciones sum() y range() para hacerlo más fácil. El tercer parámetro en la función range(inicio, fin, salto) indica un salto de números, pruébalo.*"
   ]
  },
  {
   "cell_type": "code",
   "execution_count": 11,
   "metadata": {},
   "outputs": [
    {
     "data": {
      "text/plain": [
       "2550"
      ]
     },
     "execution_count": 11,
     "metadata": {},
     "output_type": "execute_result"
    }
   ],
   "source": [
    "# Completa el ejercicio aquí\n",
    "sum(range(0, 101, 2))"
   ]
  },
  {
   "cell_type": "markdown",
   "metadata": {},
   "source": [
    "**4) Realiza un programa que pida al usuario cuantos números quiere introducir. Luego lee todos los números y realiza una media aritmética:**\n"
   ]
  },
  {
   "cell_type": "code",
   "execution_count": 17,
   "metadata": {},
   "outputs": [
    {
     "name": "stdout",
     "output_type": "stream",
     "text": [
      "Ingrese la cantidad de numeros: 2\n",
      "Introduce un numero: 4\n",
      "Introduce un numero: 8\n",
      "El promedio es:  6.0\n"
     ]
    }
   ],
   "source": [
    "# Completa el ejercicio aquí\n",
    "cant = int(input(\"Ingrese la cantidad de numeros: \"))\n",
    "cant = list(range(cant))\n",
    "\n",
    "for i,numero in enumerate(cant):\n",
    "    cant[i] = float(input(\"Introduce un numero: \"))\n",
    "\n",
    "print(\"El promedio es: \", sum(cant) / len(cant))"
   ]
  },
  {
   "cell_type": "markdown",
   "metadata": {},
   "source": [
    "**5) Realiza un programa que pida al usuario un número entero del 0 al 9, y que mientras el número no sea correcto se repita el proceso. Luego debe comprobar si el número se encuentra en la lista de números y notificarlo:**\n",
    "\n",
    "*Consejo: La sintaxis \"valor in lista\" permite comprobar fácilmente si un valor se encuentra en una lista (devuelve True o False)*"
   ]
  },
  {
   "cell_type": "code",
   "execution_count": 19,
   "metadata": {},
   "outputs": [
    {
     "name": "stdout",
     "output_type": "stream",
     "text": [
      "Introduzca un numero entre 0 y 9: 3\n",
      "El numero esta dentro de la lista\n"
     ]
    }
   ],
   "source": [
    "# Completa el ejercicio aquí\n",
    "numeros = [1, 3, 6, 9]\n",
    "\n",
    "numero = -1\n",
    "\n",
    "while numero < 0 or numero > 9:\n",
    "    numero = int(input(\"Introduzca un numero entre 0 y 9: \"))\n",
    "else:\n",
    "    if numero in numeros:\n",
    "        print(\"El numero esta dentro de la lista\")\n",
    "    else:\n",
    "        print(\"El numero no esta en la lista\")"
   ]
  },
  {
   "cell_type": "markdown",
   "metadata": {},
   "source": [
    "**6) Utilizando la función range() y la conversión a listas genera las siguientes listas dinámicamente:**\n",
    "* Todos los números del 0 al 10 [0, 1, 2, ..., 10]\n",
    "* Todos los números del -10 al 0 [-10, -9, -8, ..., 0]\n",
    "* Todos los números pares del 0 al 20 [0, 2, 4, ..., 20]\n",
    "* Todos los números impares entre -20 y 0 [-19, -17, -15, ..., -1]\n",
    "* Todos los números múltiples de 5 del 0 al 50 [0, 5, 10, ..., 50]\n",
    "\n",
    "*Pista: Utiliza el tercer parámetro de la función range(inicio, fin, salto).*"
   ]
  },
  {
   "cell_type": "code",
   "execution_count": 26,
   "metadata": {},
   "outputs": [
    {
     "name": "stdout",
     "output_type": "stream",
     "text": [
      "[0, 1, 2, 3, 4, 5, 6, 7, 8, 9, 10]\n",
      "[-10, -9, -8, -7, -6, -5, -4, -3, -2, -1, 0]\n",
      "[0, 2, 4, 6, 8, 10, 12, 14, 16, 18, 20]\n",
      "[-19, -17, -15, -13, -11, -9, -7, -5, -3, -1]\n",
      "[0, 5, 10, 15, 20, 25, 30, 35, 40, 45, 50]\n"
     ]
    }
   ],
   "source": [
    "# Completa el ejercicio\n",
    "print(list(range(0, 11)))\n",
    "print(list(range(-10, 1)))\n",
    "print(list(range(0, 21, 2)))\n",
    "print(list(range(-19, 0, 2)))\n",
    "print(list(range(0, 51, 5)))"
   ]
  },
  {
   "cell_type": "markdown",
   "metadata": {},
   "source": [
    "**7) Dadas dos listas, debes generar una tercera con todos los elementos que se repitan en ellas, pero no debe repetise ningún elemento en la nueva lista:**"
   ]
  },
  {
   "cell_type": "code",
   "execution_count": 28,
   "metadata": {},
   "outputs": [
    {
     "data": {
      "text/plain": [
       "['h', 'o', 'l', 'a', ' ', 'u', 'n']"
      ]
     },
     "execution_count": 28,
     "metadata": {},
     "output_type": "execute_result"
    }
   ],
   "source": [
    "# Completa el ejercicio aquí\n",
    "lista_1 = [\"h\",\"o\",\"l\",\"a\",\" \",\"m\",\"u\",\"n\",\"d\",\"o\"]\n",
    "lista_2 = [\"h\",\"o\",\"l\",\"a\",\" \",\"l\",\"u\",\"n\",\"a\"]\n",
    "lista_3 = []\n",
    "\n",
    "for letra in lista_1:\n",
    "    if letra in lista_2 and letra not in lista_3:\n",
    "        lista_3.append(letra)\n",
    "\n",
    "lista_3"
   ]
  }
 ],
 "metadata": {
  "anaconda-cloud": {},
  "kernelspec": {
   "display_name": "Python 3 (ipykernel)",
   "language": "python",
   "name": "python3"
  },
  "language_info": {
   "codemirror_mode": {
    "name": "ipython",
    "version": 3
   },
   "file_extension": ".py",
   "mimetype": "text/x-python",
   "name": "python",
   "nbconvert_exporter": "python",
   "pygments_lexer": "ipython3",
   "version": "3.11.1"
  }
 },
 "nbformat": 4,
 "nbformat_minor": 1
}
